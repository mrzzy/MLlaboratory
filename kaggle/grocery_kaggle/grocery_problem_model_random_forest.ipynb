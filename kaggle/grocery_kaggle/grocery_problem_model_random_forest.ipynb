{
 "cells": [
  {
   "cell_type": "markdown",
   "metadata": {},
   "source": [
    "# Grocery Problem: Random Forest Model\n",
    "In the notebook, we attempt to build a random forest model unit price prediction using the preprocessed groceries"
   ]
  },
  {
   "cell_type": "code",
   "execution_count": 2,
   "metadata": {},
   "outputs": [],
   "source": [
    "import time\n",
    "import pickle\n",
    "import numpy as np\n",
    "import matplotlib as plt\n",
    "import pandas as pd\n",
    "\n",
    "from datetime import date\n",
    "\n",
    "from sklearn.ensemble import RandomForestRegressor, RandomForestClassifier\n",
    "from IPython.display import display # extract a feature record from each date\n",
    "from sklearn import metrics\n",
    "from sklearn import preprocessing\n",
    "from sklearn.ensemble import RandomForestClassifier"
   ]
  },
  {
   "cell_type": "markdown",
   "metadata": {},
   "source": [
    "## Load Data & Scalars"
   ]
  },
  {
   "cell_type": "code",
   "execution_count": 3,
   "metadata": {},
   "outputs": [],
   "source": [
    "train_df = pd.read_feather(\"data/groceries/train_pp.feather\")\n",
    "test_df = pd.read_feather(\"data/groceries/test_pp.feather\")"
   ]
  },
  {
   "cell_type": "code",
   "execution_count": 4,
   "metadata": {},
   "outputs": [
    {
     "name": "stdout",
     "output_type": "stream",
     "text": [
      "<class 'pandas.core.frame.DataFrame'>\n",
      "RangeIndex: 10000000 entries, 0 to 9999999\n",
      "Data columns (total 97 columns):\n",
      "index                                   int64\n",
      "id                                      float64\n",
      "date                                    float64\n",
      "store_nbr                               float64\n",
      "item_nbr                                float64\n",
      "onpromotion                             float64\n",
      "class                                   float64\n",
      "perishable                              float64\n",
      "cluster                                 float64\n",
      "dcoilwtico                              float64\n",
      "transferred                             float64\n",
      "family_AUTOMOTIVE                       float64\n",
      "family_BABY CARE                        float64\n",
      "family_BEAUTY                           float64\n",
      "family_BEVERAGES                        float64\n",
      "family_BOOKS                            float64\n",
      "family_BREAD/BAKERY                     float64\n",
      "family_CELEBRATION                      float64\n",
      "family_CLEANING                         float64\n",
      "family_DAIRY                            float64\n",
      "family_DELI                             float64\n",
      "family_EGGS                             float64\n",
      "family_FROZEN FOODS                     float64\n",
      "family_GROCERY I                        float64\n",
      "family_GROCERY II                       float64\n",
      "family_HARDWARE                         float64\n",
      "family_HOME AND KITCHEN I               float64\n",
      "family_HOME AND KITCHEN II              float64\n",
      "family_HOME APPLIANCES                  float64\n",
      "family_HOME CARE                        float64\n",
      "family_LADIESWEAR                       float64\n",
      "family_LAWN AND GARDEN                  float64\n",
      "family_LINGERIE                         float64\n",
      "family_LIQUOR,WINE,BEER                 float64\n",
      "family_MAGAZINES                        float64\n",
      "family_MEATS                            float64\n",
      "family_PERSONAL CARE                    float64\n",
      "family_PET SUPPLIES                     float64\n",
      "family_PLAYERS AND ELECTRONICS          float64\n",
      "family_POULTRY                          float64\n",
      "family_PREPARED FOODS                   float64\n",
      "family_PRODUCE                          float64\n",
      "family_SCHOOL AND OFFICE SUPPLIES       float64\n",
      "family_SEAFOOD                          float64\n",
      "city_Ambato                             float64\n",
      "city_Babahoyo                           float64\n",
      "city_Cayambe                            float64\n",
      "city_Cuenca                             float64\n",
      "city_Daule                              float64\n",
      "city_El Carmen                          float64\n",
      "city_Esmeraldas                         float64\n",
      "city_Guaranda                           float64\n",
      "city_Guayaquil                          float64\n",
      "city_Ibarra                             float64\n",
      "city_Latacunga                          float64\n",
      "city_Libertad                           float64\n",
      "city_Loja                               float64\n",
      "city_Machala                            float64\n",
      "city_Manta                              float64\n",
      "city_Playas                             float64\n",
      "city_Puyo                               float64\n",
      "city_Quevedo                            float64\n",
      "city_Quito                              float64\n",
      "city_Riobamba                           float64\n",
      "city_Salinas                            float64\n",
      "city_Santo Domingo                      float64\n",
      "state_Azuay                             float64\n",
      "state_Bolivar                           float64\n",
      "state_Chimborazo                        float64\n",
      "state_Cotopaxi                          float64\n",
      "state_El Oro                            float64\n",
      "state_Esmeraldas                        float64\n",
      "state_Guayas                            float64\n",
      "state_Imbabura                          float64\n",
      "state_Loja                              float64\n",
      "state_Los Rios                          float64\n",
      "state_Manabi                            float64\n",
      "state_Pastaza                           float64\n",
      "state_Pichincha                         float64\n",
      "state_Santa Elena                       float64\n",
      "state_Santo Domingo de los Tsachilas    float64\n",
      "state_Tungurahua                        float64\n",
      "type_x_A                                float64\n",
      "type_x_B                                float64\n",
      "type_x_C                                float64\n",
      "type_x_D                                float64\n",
      "type_x_E                                float64\n",
      "type_y_Additional                       float64\n",
      "type_y_Bridge                           float64\n",
      "type_y_Event                            float64\n",
      "type_y_Holiday                          float64\n",
      "type_y_Transfer                         float64\n",
      "type_y_Work Day                         float64\n",
      "locale_Local                            float64\n",
      "locale_National                         float64\n",
      "locale_Regional                         float64\n",
      "unit_sales                              float32\n",
      "dtypes: float32(1), float64(95), int64(1)\n",
      "memory usage: 7.2 GB\n"
     ]
    }
   ],
   "source": [
    "train_df.info()"
   ]
  },
  {
   "cell_type": "code",
   "execution_count": null,
   "metadata": {},
   "outputs": [],
   "source": []
  }
 ],
 "metadata": {
  "kernelspec": {
   "display_name": "Python 3",
   "language": "python",
   "name": "python3"
  },
  "language_info": {
   "codemirror_mode": {
    "name": "ipython",
    "version": 3
   },
   "file_extension": ".py",
   "mimetype": "text/x-python",
   "name": "python",
   "nbconvert_exporter": "python",
   "pygments_lexer": "ipython3",
   "version": "3.7.3"
  }
 },
 "nbformat": 4,
 "nbformat_minor": 2
}
