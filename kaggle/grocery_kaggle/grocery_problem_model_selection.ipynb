{
 "cells": [
  {
   "cell_type": "markdown",
   "metadata": {},
   "source": [
    "# Grocery Problem: Model Selection\n",
    "\n",
    "In this notebook, we attempt to train models on the data and using cross validation, attempt to find the best model for the job."
   ]
  },
  {
   "cell_type": "markdown",
   "metadata": {},
   "source": [
    "# Imports"
   ]
  },
  {
   "cell_type": "code",
   "execution_count": 2,
   "metadata": {},
   "outputs": [],
   "source": [
    "import time\n",
    "import pickle\n",
    "import numpy as np\n",
    "import matplotlib as plt\n",
    "import pandas as pd\n",
    "from datetime import date\n",
    "\n",
    "from IPython.display import display # extract a feature record from each date\n",
    "from sklearn import metrics\n",
    "from sklearn import preprocessing\n",
    "from sklearn.model_selection import train_test_split\n",
    "from sklearn.linear_model import SGDRegressor\n",
    "from sklearn.svm import SVR\n",
    "from sklearn.ensemble import RandomForestRegressor\n",
    "\n",
    "from multiprocessing import Pool, cpu_count"
   ]
  },
  {
   "cell_type": "markdown",
   "metadata": {},
   "source": [
    "## Load Data\n",
    "We reload the preprocessed data from the previous notebooks."
   ]
  },
  {
   "cell_type": "code",
   "execution_count": 3,
   "metadata": {},
   "outputs": [],
   "source": [
    "with open(\"data/groceries/groceries_dataset.npz\", \"rb\") as f:\n",
    "    dataset = np.load(f)\n",
    "    train_ins, train_outs = dataset[\"train_ins\"], dataset[\"train_outs\"]"
   ]
  },
  {
   "cell_type": "code",
   "execution_count": 4,
   "metadata": {},
   "outputs": [
    {
     "name": "stdout",
     "output_type": "stream",
     "text": [
      "Loaded 10000000 of training examples\n"
     ]
    }
   ],
   "source": [
    "print(f\"Loaded {len(train_ins)} of training examples\")"
   ]
  },
  {
   "cell_type": "markdown",
   "metadata": {},
   "source": [
    "## Validation-Train Split\n",
    "We split the data into train and validation subsets so that we can train on training set and validate model on validation set. We do not shuffle because the data is time series.\n",
    "\n",
    "We include 20,000 examples in our validation set and leave the rest for training"
   ]
  },
  {
   "cell_type": "code",
   "execution_count": null,
   "metadata": {},
   "outputs": [],
   "source": [
    "# cross validation split with no shuffling because data is time series\n",
    "train_ins, valid_ins, train_outs, valid_outs = train_test_split(\n",
    "    train_ins, train_outs, test_size=int(2e+5), shuffle=False)"
   ]
  },
  {
   "cell_type": "code",
   "execution_count": null,
   "metadata": {},
   "outputs": [
    {
     "name": "stdout",
     "output_type": "stream",
     "text": [
      "9800000 training examples, 200000  validation examples\n"
     ]
    }
   ],
   "source": [
    "print(f\"{len(train_ins)} training examples, {len(valid_ins)}  validation examples\")"
   ]
  },
  {
   "cell_type": "markdown",
   "metadata": {},
   "source": [
    "## Model Selection\n",
    "We try a selection of models:\n",
    "- linear regression with SGD\n",
    "- RandomForest\n",
    "- Neural Network\n",
    "\n",
    "and perform cross validation using mean squared log error to determine the best performing model\n",
    "\n",
    "We first train the models:"
   ]
  },
  {
   "cell_type": "code",
   "execution_count": null,
   "metadata": {},
   "outputs": [],
   "source": [
    "models = {\n",
    "    \"linear regression\": SGDRegressor(verbose=1),\n",
    "    \"random forest\": RandomForestRegressor(verbose=1, n_jobs=-1)\n",
    "}\n",
    "\n",
    "\n",
    "for name, model in models.items():\n",
    "    print(f\"training {name}...\")\n",
    "    %time model.fit(train_ins, train_outs)"
   ]
  }
 ],
 "metadata": {
  "kernelspec": {
   "display_name": "Python 3",
   "language": "python",
   "name": "python3"
  },
  "language_info": {
   "codemirror_mode": {
    "name": "ipython",
    "version": 3
   },
   "file_extension": ".py",
   "mimetype": "text/x-python",
   "name": "python",
   "nbconvert_exporter": "python",
   "pygments_lexer": "ipython3",
   "version": "3.6.7"
  }
 },
 "nbformat": 4,
 "nbformat_minor": 2
}
