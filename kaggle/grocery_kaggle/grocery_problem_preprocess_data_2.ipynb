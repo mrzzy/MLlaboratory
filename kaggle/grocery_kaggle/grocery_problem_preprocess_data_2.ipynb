{
 "cells": [
  {
   "cell_type": "markdown",
   "metadata": {},
   "source": [
    "# Grocery Problem: Preprocessing Data 2\n",
    "In this notebook, we take steps to analyse and explore the grocery data and further prepare the data for later model building"
   ]
  },
  {
   "cell_type": "markdown",
   "metadata": {},
   "source": [
    "## Imports & notebook setup"
   ]
  },
  {
   "cell_type": "code",
   "execution_count": 1,
   "metadata": {},
   "outputs": [],
   "source": [
    "%matplotlib inline\n",
    "%load_ext autoreload\n",
    "%autoreload 2"
   ]
  },
  {
   "cell_type": "code",
   "execution_count": 2,
   "metadata": {},
   "outputs": [],
   "source": [
    "import gc\n",
    "import time\n",
    "import pickle\n",
    "import numpy as np\n",
    "import matplotlib.pyplot as plt\n",
    "import matplotlib.ticker as plticker\n",
    "import pandas as pd\n",
    "\n",
    "from datetime import date\n",
    "\n",
    "from sklearn.ensemble import RandomForestRegressor, RandomForestClassifier\n",
    "from IPython.display import display # extract a feature record from each date\n",
    "from sklearn import metrics\n",
    "from sklearn import preprocessing\n",
    "from sklearn import decomposition\n",
    "\n",
    "from multiprocessing import cpu_count, Pool\n",
    "from multiprocessing.pool import ThreadPool"
   ]
  },
  {
   "cell_type": "markdown",
   "metadata": {},
   "source": [
    "## Load the data\n",
    "We restore the preprocessed data from the previous notebook"
   ]
  },
  {
   "cell_type": "code",
   "execution_count": 3,
   "metadata": {},
   "outputs": [
    {
     "name": "stdout",
     "output_type": "stream",
     "text": [
      "CPU times: user 7.07 s, sys: 16 s, total: 23 s\n",
      "Wall time: 3.51 s\n",
      "CPU times: user 1.76 s, sys: 6 s, total: 7.76 s\n",
      "Wall time: 1.01 s\n"
     ]
    }
   ],
   "source": [
    "%time train_df = pd.read_feather(\"data/groceries/train_pp.feather\")\n",
    "%time test_df = pd.read_feather(\"data/groceries/test_pp.feather\")"
   ]
  },
  {
   "cell_type": "markdown",
   "metadata": {},
   "source": [
    "#### Reducing RAM consumption\n",
    "Currently the dataframes are very RAM heavy:"
   ]
  },
  {
   "cell_type": "code",
   "execution_count": 4,
   "metadata": {},
   "outputs": [
    {
     "name": "stdout",
     "output_type": "stream",
     "text": [
      "<class 'pandas.core.frame.DataFrame'>\n",
      "RangeIndex: 10000000 entries, 0 to 9999999\n",
      "Columns: 97 entries, index to unit_sales\n",
      "dtypes: float32(1), float64(95), int64(1)\n",
      "memory usage: 7.2 GB\n"
     ]
    }
   ],
   "source": [
    "train_df.info(max_cols=0)"
   ]
  },
  {
   "cell_type": "code",
   "execution_count": 5,
   "metadata": {},
   "outputs": [
    {
     "name": "stdout",
     "output_type": "stream",
     "text": [
      "<class 'pandas.core.frame.DataFrame'>\n",
      "RangeIndex: 3370464 entries, 0 to 3370463\n",
      "Columns: 96 entries, index to locale_Regional\n",
      "dtypes: float64(95), int64(1)\n",
      "memory usage: 2.4 GB\n"
     ]
    }
   ],
   "source": [
    "test_df.info(max_cols=0)"
   ]
  },
  {
   "cell_type": "markdown",
   "metadata": {},
   "source": [
    "Since the data takes a large amount of ram, we reducefit my converting the  value from float64 to float32. This should half our RAM consumption"
   ]
  },
  {
   "cell_type": "code",
   "execution_count": 6,
   "metadata": {},
   "outputs": [],
   "source": [
    "# Converts the floats in the df dataframe float64 to float32 inplace\n",
    "# returns the converted dataframe\n",
    "def downcast_float32(df):\n",
    "    for col_name in df.columns:\n",
    "        # find columns with float64 datatype\n",
    "        if df[col_name].dtype == 'float64':\n",
    "            # convert column to float32 inplace\n",
    "            df[col_name]= df[col_name].astype('float32', copy=False)\n",
    "    return df"
   ]
  },
  {
   "cell_type": "code",
   "execution_count": 7,
   "metadata": {},
   "outputs": [
    {
     "name": "stdout",
     "output_type": "stream",
     "text": [
      "CPU times: user 4min 5s, sys: 4min 18s, total: 8min 23s\n",
      "Wall time: 1min 35s\n",
      "CPU times: user 1min 26s, sys: 1min 25s, total: 2min 52s\n",
      "Wall time: 31.6 s\n"
     ]
    }
   ],
   "source": [
    "%time train_df = downcast_float32(train_df)\n",
    "%time test_df = downcast_float32(test_df)"
   ]
  },
  {
   "cell_type": "markdown",
   "metadata": {},
   "source": [
    "Now the data fit confortablely into ram:"
   ]
  },
  {
   "cell_type": "code",
   "execution_count": 8,
   "metadata": {},
   "outputs": [
    {
     "name": "stdout",
     "output_type": "stream",
     "text": [
      "<class 'pandas.core.frame.DataFrame'>\n",
      "RangeIndex: 10000000 entries, 0 to 9999999\n",
      "Columns: 97 entries, index to unit_sales\n",
      "dtypes: float32(96), int64(1)\n",
      "memory usage: 3.7 GB\n"
     ]
    }
   ],
   "source": [
    "train_df.info(max_cols=0)"
   ]
  },
  {
   "cell_type": "code",
   "execution_count": 9,
   "metadata": {},
   "outputs": [
    {
     "name": "stdout",
     "output_type": "stream",
     "text": [
      "<class 'pandas.core.frame.DataFrame'>\n",
      "RangeIndex: 3370464 entries, 0 to 3370463\n",
      "Columns: 96 entries, index to locale_Regional\n",
      "dtypes: float32(95), int64(1)\n",
      "memory usage: 1.2 GB\n"
     ]
    }
   ],
   "source": [
    "test_df.info(max_cols=0)"
   ]
  },
  {
   "cell_type": "markdown",
   "metadata": {},
   "source": [
    "## Exploring the data\n",
    "In this section, we explore the data using data exploratory techniques\n",
    "\n",
    "1. We first use `df.describe()` to obtain a statisical summary of data"
   ]
  },
  {
   "cell_type": "code",
   "execution_count": 10,
   "metadata": {},
   "outputs": [
    {
     "data": {
      "text/html": [
       "<div>\n",
       "<style scoped>\n",
       "    .dataframe tbody tr th:only-of-type {\n",
       "        vertical-align: middle;\n",
       "    }\n",
       "\n",
       "    .dataframe tbody tr th {\n",
       "        vertical-align: top;\n",
       "    }\n",
       "\n",
       "    .dataframe thead th {\n",
       "        text-align: right;\n",
       "    }\n",
       "</style>\n",
       "<table border=\"1\" class=\"dataframe\">\n",
       "  <thead>\n",
       "    <tr style=\"text-align: right;\">\n",
       "      <th></th>\n",
       "      <th>index</th>\n",
       "      <th>id</th>\n",
       "      <th>date</th>\n",
       "      <th>store_nbr</th>\n",
       "      <th>item_nbr</th>\n",
       "      <th>onpromotion</th>\n",
       "      <th>class</th>\n",
       "      <th>perishable</th>\n",
       "      <th>cluster</th>\n",
       "      <th>dcoilwtico</th>\n",
       "      <th>...</th>\n",
       "      <th>type_y_Additional</th>\n",
       "      <th>type_y_Bridge</th>\n",
       "      <th>type_y_Event</th>\n",
       "      <th>type_y_Holiday</th>\n",
       "      <th>type_y_Transfer</th>\n",
       "      <th>type_y_Work Day</th>\n",
       "      <th>locale_Local</th>\n",
       "      <th>locale_National</th>\n",
       "      <th>locale_Regional</th>\n",
       "      <th>unit_sales</th>\n",
       "    </tr>\n",
       "  </thead>\n",
       "  <tbody>\n",
       "    <tr>\n",
       "      <th>count</th>\n",
       "      <td>1.000000e+07</td>\n",
       "      <td>1.000000e+07</td>\n",
       "      <td>1.000000e+07</td>\n",
       "      <td>1.000000e+07</td>\n",
       "      <td>1.000000e+07</td>\n",
       "      <td>10000000.0</td>\n",
       "      <td>1.000000e+07</td>\n",
       "      <td>1.000000e+07</td>\n",
       "      <td>1.000000e+07</td>\n",
       "      <td>1.000000e+07</td>\n",
       "      <td>...</td>\n",
       "      <td>1.000000e+07</td>\n",
       "      <td>10000000.0</td>\n",
       "      <td>1.000000e+07</td>\n",
       "      <td>1.000000e+07</td>\n",
       "      <td>1.000000e+07</td>\n",
       "      <td>10000000.0</td>\n",
       "      <td>1.000000e+07</td>\n",
       "      <td>1.000000e+07</td>\n",
       "      <td>1.000000e+07</td>\n",
       "      <td>1.000000e+07</td>\n",
       "    </tr>\n",
       "    <tr>\n",
       "      <th>mean</th>\n",
       "      <td>1.204970e+08</td>\n",
       "      <td>-4.783203e-07</td>\n",
       "      <td>-4.044922e-07</td>\n",
       "      <td>-4.315186e-09</td>\n",
       "      <td>-8.056640e-10</td>\n",
       "      <td>0.0</td>\n",
       "      <td>-5.325317e-10</td>\n",
       "      <td>-1.313324e-08</td>\n",
       "      <td>-5.569458e-09</td>\n",
       "      <td>-3.181518e-07</td>\n",
       "      <td>...</td>\n",
       "      <td>7.267578e-07</td>\n",
       "      <td>0.0</td>\n",
       "      <td>2.260474e-06</td>\n",
       "      <td>1.766699e-06</td>\n",
       "      <td>-2.043115e-06</td>\n",
       "      <td>0.0</td>\n",
       "      <td>-9.697266e-07</td>\n",
       "      <td>-1.236182e-06</td>\n",
       "      <td>8.707764e-07</td>\n",
       "      <td>8.104366e+00</td>\n",
       "    </tr>\n",
       "    <tr>\n",
       "      <th>std</th>\n",
       "      <td>2.886751e+06</td>\n",
       "      <td>1.000000e+00</td>\n",
       "      <td>1.000000e+00</td>\n",
       "      <td>1.000000e+00</td>\n",
       "      <td>1.000000e+00</td>\n",
       "      <td>0.0</td>\n",
       "      <td>1.000000e+00</td>\n",
       "      <td>1.000000e+00</td>\n",
       "      <td>1.000000e+00</td>\n",
       "      <td>1.000000e+00</td>\n",
       "      <td>...</td>\n",
       "      <td>1.000000e+00</td>\n",
       "      <td>0.0</td>\n",
       "      <td>1.000000e+00</td>\n",
       "      <td>1.000000e+00</td>\n",
       "      <td>1.000000e+00</td>\n",
       "      <td>0.0</td>\n",
       "      <td>1.000000e+00</td>\n",
       "      <td>1.000000e+00</td>\n",
       "      <td>1.000000e+00</td>\n",
       "      <td>2.466237e+01</td>\n",
       "    </tr>\n",
       "    <tr>\n",
       "      <th>min</th>\n",
       "      <td>1.154970e+08</td>\n",
       "      <td>-1.747133e+00</td>\n",
       "      <td>-8.337458e-01</td>\n",
       "      <td>-1.670422e+00</td>\n",
       "      <td>-1.828894e+00</td>\n",
       "      <td>0.0</td>\n",
       "      <td>-8.078153e-01</td>\n",
       "      <td>-5.866986e-01</td>\n",
       "      <td>-1.689316e+00</td>\n",
       "      <td>-2.046201e+00</td>\n",
       "      <td>...</td>\n",
       "      <td>-3.916546e-01</td>\n",
       "      <td>0.0</td>\n",
       "      <td>-3.447308e-01</td>\n",
       "      <td>-8.532497e-01</td>\n",
       "      <td>-7.169128e-01</td>\n",
       "      <td>0.0</td>\n",
       "      <td>-8.713695e-01</td>\n",
       "      <td>-9.657815e-01</td>\n",
       "      <td>-3.063821e-01</td>\n",
       "      <td>-9.300000e+02</td>\n",
       "    </tr>\n",
       "    <tr>\n",
       "      <th>25%</th>\n",
       "      <td>1.179970e+08</td>\n",
       "      <td>-8.658916e-01</td>\n",
       "      <td>-8.337458e-01</td>\n",
       "      <td>-9.349593e-01</td>\n",
       "      <td>-8.139869e-01</td>\n",
       "      <td>0.0</td>\n",
       "      <td>-7.610148e-01</td>\n",
       "      <td>-5.866986e-01</td>\n",
       "      <td>-8.128005e-01</td>\n",
       "      <td>-7.130504e-01</td>\n",
       "      <td>...</td>\n",
       "      <td>-3.916546e-01</td>\n",
       "      <td>0.0</td>\n",
       "      <td>-3.447308e-01</td>\n",
       "      <td>-8.532497e-01</td>\n",
       "      <td>-7.169128e-01</td>\n",
       "      <td>0.0</td>\n",
       "      <td>-8.713695e-01</td>\n",
       "      <td>-9.657815e-01</td>\n",
       "      <td>-3.063821e-01</td>\n",
       "      <td>2.000000e+00</td>\n",
       "    </tr>\n",
       "    <tr>\n",
       "      <th>50%</th>\n",
       "      <td>1.204970e+08</td>\n",
       "      <td>5.353633e-05</td>\n",
       "      <td>-8.337458e-01</td>\n",
       "      <td>4.565822e-02</td>\n",
       "      <td>6.927008e-02</td>\n",
       "      <td>0.0</td>\n",
       "      <td>-6.506993e-01</td>\n",
       "      <td>-5.866986e-01</td>\n",
       "      <td>6.371449e-02</td>\n",
       "      <td>6.850359e-03</td>\n",
       "      <td>...</td>\n",
       "      <td>-3.916546e-01</td>\n",
       "      <td>0.0</td>\n",
       "      <td>-3.447308e-01</td>\n",
       "      <td>-8.532497e-01</td>\n",
       "      <td>-7.169128e-01</td>\n",
       "      <td>0.0</td>\n",
       "      <td>-8.713695e-01</td>\n",
       "      <td>-9.657815e-01</td>\n",
       "      <td>-3.063821e-01</td>\n",
       "      <td>4.000000e+00</td>\n",
       "    </tr>\n",
       "    <tr>\n",
       "      <th>75%</th>\n",
       "      <td>1.229970e+08</td>\n",
       "      <td>8.659987e-01</td>\n",
       "      <td>1.198116e+00</td>\n",
       "      <td>9.649871e-01</td>\n",
       "      <td>6.946353e-01</td>\n",
       "      <td>0.0</td>\n",
       "      <td>6.145852e-01</td>\n",
       "      <td>1.704453e+00</td>\n",
       "      <td>9.402295e-01</td>\n",
       "      <td>8.822864e-01</td>\n",
       "      <td>...</td>\n",
       "      <td>-3.916546e-01</td>\n",
       "      <td>0.0</td>\n",
       "      <td>-3.447308e-01</td>\n",
       "      <td>1.171990e+00</td>\n",
       "      <td>1.394870e+00</td>\n",
       "      <td>0.0</td>\n",
       "      <td>1.147619e+00</td>\n",
       "      <td>1.035431e+00</td>\n",
       "      <td>-3.063821e-01</td>\n",
       "      <td>8.000000e+00</td>\n",
       "    </tr>\n",
       "    <tr>\n",
       "      <th>max</th>\n",
       "      <td>1.254970e+08</td>\n",
       "      <td>1.731944e+00</td>\n",
       "      <td>3.229978e+00</td>\n",
       "      <td>1.577873e+00</td>\n",
       "      <td>1.634225e+00</td>\n",
       "      <td>0.0</td>\n",
       "      <td>4.856715e+00</td>\n",
       "      <td>1.704453e+00</td>\n",
       "      <td>1.816745e+00</td>\n",
       "      <td>1.793272e+00</td>\n",
       "      <td>...</td>\n",
       "      <td>2.553270e+00</td>\n",
       "      <td>0.0</td>\n",
       "      <td>2.900814e+00</td>\n",
       "      <td>1.171990e+00</td>\n",
       "      <td>1.394870e+00</td>\n",
       "      <td>0.0</td>\n",
       "      <td>1.147619e+00</td>\n",
       "      <td>1.035431e+00</td>\n",
       "      <td>3.263898e+00</td>\n",
       "      <td>1.537500e+04</td>\n",
       "    </tr>\n",
       "  </tbody>\n",
       "</table>\n",
       "<p>8 rows × 97 columns</p>\n",
       "</div>"
      ],
      "text/plain": [
       "              index            id          date     store_nbr      item_nbr  \\\n",
       "count  1.000000e+07  1.000000e+07  1.000000e+07  1.000000e+07  1.000000e+07   \n",
       "mean   1.204970e+08 -4.783203e-07 -4.044922e-07 -4.315186e-09 -8.056640e-10   \n",
       "std    2.886751e+06  1.000000e+00  1.000000e+00  1.000000e+00  1.000000e+00   \n",
       "min    1.154970e+08 -1.747133e+00 -8.337458e-01 -1.670422e+00 -1.828894e+00   \n",
       "25%    1.179970e+08 -8.658916e-01 -8.337458e-01 -9.349593e-01 -8.139869e-01   \n",
       "50%    1.204970e+08  5.353633e-05 -8.337458e-01  4.565822e-02  6.927008e-02   \n",
       "75%    1.229970e+08  8.659987e-01  1.198116e+00  9.649871e-01  6.946353e-01   \n",
       "max    1.254970e+08  1.731944e+00  3.229978e+00  1.577873e+00  1.634225e+00   \n",
       "\n",
       "       onpromotion         class    perishable       cluster    dcoilwtico  \\\n",
       "count   10000000.0  1.000000e+07  1.000000e+07  1.000000e+07  1.000000e+07   \n",
       "mean           0.0 -5.325317e-10 -1.313324e-08 -5.569458e-09 -3.181518e-07   \n",
       "std            0.0  1.000000e+00  1.000000e+00  1.000000e+00  1.000000e+00   \n",
       "min            0.0 -8.078153e-01 -5.866986e-01 -1.689316e+00 -2.046201e+00   \n",
       "25%            0.0 -7.610148e-01 -5.866986e-01 -8.128005e-01 -7.130504e-01   \n",
       "50%            0.0 -6.506993e-01 -5.866986e-01  6.371449e-02  6.850359e-03   \n",
       "75%            0.0  6.145852e-01  1.704453e+00  9.402295e-01  8.822864e-01   \n",
       "max            0.0  4.856715e+00  1.704453e+00  1.816745e+00  1.793272e+00   \n",
       "\n",
       "       ...  type_y_Additional  type_y_Bridge  type_y_Event  type_y_Holiday  \\\n",
       "count  ...       1.000000e+07     10000000.0  1.000000e+07    1.000000e+07   \n",
       "mean   ...       7.267578e-07            0.0  2.260474e-06    1.766699e-06   \n",
       "std    ...       1.000000e+00            0.0  1.000000e+00    1.000000e+00   \n",
       "min    ...      -3.916546e-01            0.0 -3.447308e-01   -8.532497e-01   \n",
       "25%    ...      -3.916546e-01            0.0 -3.447308e-01   -8.532497e-01   \n",
       "50%    ...      -3.916546e-01            0.0 -3.447308e-01   -8.532497e-01   \n",
       "75%    ...      -3.916546e-01            0.0 -3.447308e-01    1.171990e+00   \n",
       "max    ...       2.553270e+00            0.0  2.900814e+00    1.171990e+00   \n",
       "\n",
       "       type_y_Transfer  type_y_Work Day  locale_Local  locale_National  \\\n",
       "count     1.000000e+07       10000000.0  1.000000e+07     1.000000e+07   \n",
       "mean     -2.043115e-06              0.0 -9.697266e-07    -1.236182e-06   \n",
       "std       1.000000e+00              0.0  1.000000e+00     1.000000e+00   \n",
       "min      -7.169128e-01              0.0 -8.713695e-01    -9.657815e-01   \n",
       "25%      -7.169128e-01              0.0 -8.713695e-01    -9.657815e-01   \n",
       "50%      -7.169128e-01              0.0 -8.713695e-01    -9.657815e-01   \n",
       "75%       1.394870e+00              0.0  1.147619e+00     1.035431e+00   \n",
       "max       1.394870e+00              0.0  1.147619e+00     1.035431e+00   \n",
       "\n",
       "       locale_Regional    unit_sales  \n",
       "count     1.000000e+07  1.000000e+07  \n",
       "mean      8.707764e-07  8.104366e+00  \n",
       "std       1.000000e+00  2.466237e+01  \n",
       "min      -3.063821e-01 -9.300000e+02  \n",
       "25%      -3.063821e-01  2.000000e+00  \n",
       "50%      -3.063821e-01  4.000000e+00  \n",
       "75%      -3.063821e-01  8.000000e+00  \n",
       "max       3.263898e+00  1.537500e+04  \n",
       "\n",
       "[8 rows x 97 columns]"
      ]
     },
     "execution_count": 10,
     "metadata": {},
     "output_type": "execute_result"
    }
   ],
   "source": [
    "train_df.describe()"
   ]
  },
  {
   "cell_type": "markdown",
   "metadata": {},
   "source": [
    "2. We seperate the training data in training inputs and outputs"
   ]
  },
  {
   "cell_type": "code",
   "execution_count": 11,
   "metadata": {},
   "outputs": [],
   "source": [
    "train_outs = train_df.unit_sales\n",
    "train_df.drop(columns=\"unit_sales\", inplace=True)\n",
    "train_ins = train_df"
   ]
  },
  {
   "cell_type": "markdown",
   "metadata": {},
   "source": [
    "Test data contains only inputs so we just assign the test dataframe as inputs"
   ]
  },
  {
   "cell_type": "code",
   "execution_count": 12,
   "metadata": {},
   "outputs": [],
   "source": [
    "test_ins = test_df"
   ]
  },
  {
   "cell_type": "markdown",
   "metadata": {},
   "source": [
    "Notice that are a large number of input features in the dataset"
   ]
  },
  {
   "cell_type": "code",
   "execution_count": 13,
   "metadata": {},
   "outputs": [
    {
     "name": "stdout",
     "output_type": "stream",
     "text": [
      "there are 96 input features\n"
     ]
    }
   ],
   "source": [
    "n_features = train_ins.shape[-1]\n",
    "print(f\"there are {n_features} input features\")"
   ]
  },
  {
   "cell_type": "markdown",
   "metadata": {},
   "source": [
    "## Preparing the data\n",
    "There are a large number of input features in this dataset, making visualisation and training a model to fit the data difficult\n",
    "\n",
    "\n",
    "### Dimentionality Reduction using PCA\n",
    "Hence we apply PCA to reduce no. of features in our inputs.\n",
    "\n",
    "> We have already done the feature scaling required before applying PCA in the previous notebook\n",
    "\n",
    "To measure how well a PCA decomposition captures the variance in the data/ how much infomation is lost in the dimention reduction process we create an error function:"
   ]
  },
  {
   "cell_type": "code",
   "execution_count": 14,
   "metadata": {},
   "outputs": [],
   "source": [
    "# Measures and returns the mean variance error\n",
    "def mean_variance_error(X, X_approx):\n",
    "    # Check no of features are valid (equal)\n",
    "    assert len(X) == len(X_approx)\n",
    "    n_features = len(X)\n",
    "    \n",
    "    # Average squared projection error  1/m * sum(|| X - X_approx ||2)\n",
    "    mean_sq_projection_error = np.sum(\n",
    "        np.linalg.norm(X - X_approx, ord=2)) / n_features\n",
    "    # total varation in data 1/m * sum(|| X - X_approx||2)\n",
    "    total_variation = np.sum(\n",
    "        np.linalg.norm(X, ord=2)) / n_features\n",
    "    \n",
    "    return mean_sq_projection_error / total_variation\n"
   ]
  },
  {
   "cell_type": "markdown",
   "metadata": {},
   "source": [
    "We try different no. of precipal components to try to decide how many principal components to use."
   ]
  },
  {
   "cell_type": "code",
   "execution_count": 1,
   "metadata": {},
   "outputs": [
    {
     "ename": "NameError",
     "evalue": "name 'train_ins' is not defined",
     "output_type": "error",
     "traceback": [
      "\u001b[0;31m---------------------------------------------------------------------------\u001b[0m",
      "\u001b[0;31mNameError\u001b[0m                                 Traceback (most recent call last)",
      "\u001b[0;32m<ipython-input-1-46b238c813b1>\u001b[0m in \u001b[0;36m<module>\u001b[0;34m\u001b[0m\n\u001b[0;32m----> 1\u001b[0;31m \u001b[0msample_train_ins\u001b[0m \u001b[0;34m=\u001b[0m \u001b[0mtrain_ins\u001b[0m\u001b[0;34m.\u001b[0m\u001b[0mheada\u001b[0m\u001b[0;34m(\u001b[0m\u001b[0;36m10000\u001b[0m\u001b[0;34m)\u001b[0m\u001b[0;34m\u001b[0m\u001b[0;34m\u001b[0m\u001b[0m\n\u001b[0m\u001b[1;32m      2\u001b[0m \u001b[0;34m\u001b[0m\u001b[0m\n\u001b[1;32m      3\u001b[0m \u001b[0mn_components\u001b[0m \u001b[0;34m=\u001b[0m \u001b[0mnp\u001b[0m\u001b[0;34m.\u001b[0m\u001b[0mrandom\u001b[0m\u001b[0;34m.\u001b[0m\u001b[0mrandint\u001b[0m\u001b[0;34m(\u001b[0m\u001b[0;36m1\u001b[0m\u001b[0;34m,\u001b[0m \u001b[0;36m96\u001b[0m\u001b[0;34m,\u001b[0m \u001b[0msize\u001b[0m\u001b[0;34m=\u001b[0m\u001b[0;36m80\u001b[0m\u001b[0;34m)\u001b[0m\u001b[0;34m\u001b[0m\u001b[0;34m\u001b[0m\u001b[0m\n\u001b[1;32m      4\u001b[0m \u001b[0merrors\u001b[0m \u001b[0;34m=\u001b[0m \u001b[0;34m[\u001b[0m\u001b[0;34m]\u001b[0m\u001b[0;34m\u001b[0m\u001b[0;34m\u001b[0m\u001b[0m\n\u001b[1;32m      5\u001b[0m \u001b[0;34m\u001b[0m\u001b[0m\n",
      "\u001b[0;31mNameError\u001b[0m: name 'train_ins' is not defined"
     ]
    }
   ],
   "source": [
    "sample_train_ins = train_ins.head(10000) # head because its time series\n",
    "\n",
    "n_components = np.random.randint(1, 96, size=80)\n",
    "errors = []\n",
    "\n",
    "for n_component in n_components:\n",
    "    pca = decomposition.PCA(n_components=n_component)\n",
    "    pca.fit(sample_train_ins)\n",
    "                    \n",
    "    train_pca_ins = pca.transform(sample_train_ins)\n",
    "    train_approx_ins = pca.inverse_transform(train_pca_ins)\n",
    "\n",
    "    errors.append(mean_variance_error(train_approx_ins, sample_train_ins))"
   ]
  },
  {
   "cell_type": "markdown",
   "metadata": {},
   "source": [
    "Plot the trend of principal components to loss."
   ]
  },
  {
   "cell_type": "code",
   "execution_count": 16,
   "metadata": {},
   "outputs": [
    {
     "data": {
      "text/plain": [
       "[<matplotlib.lines.Line2D at 0x7febac2d5470>]"
      ]
     },
     "execution_count": 16,
     "metadata": {},
     "output_type": "execute_result"
    },
    {
     "data": {
      "image/png": "[encoded data removed]",
      "text/plain": [
       "<Figure size 432x288 with 1 Axes>"
      ]
     },
     "metadata": {
      "needs_background": "light"
     },
     "output_type": "display_data"
    }
   ],
   "source": [
    "fig, ax = plt.subplots(1,1)\n",
    "plt.xlabel(\"no. of components.\")\n",
    "plt.ylabel(\"mean variance error\")\n",
    "ax.xaxis.set_major_locator(plticker.MultipleLocator(base=4))\n",
    "plt.plot(n_components, errors, \"r*\")"
   ]
  },
  {
   "cell_type": "markdown",
   "metadata": {},
   "source": [
    "From the analysis of this graph, we can see the optimal no. of components see to be around ~68 components.\n",
    "With this choice this no. of components, we try to compress the entire dataset.\n",
    "\n",
    "Instead of using normal PCA, we use incremental PCA to ensure that the procedure fits into ram"
   ]
  },
  {
   "cell_type": "code",
   "execution_count": 17,
   "metadata": {},
   "outputs": [
    {
     "name": "stdout",
     "output_type": "stream",
     "text": [
      "CPU times: user 23min 44s, sys: 2min 54s, total: 26min 38s\n",
      "Wall time: 5min 34s\n",
      "CPU times: user 50.7 s, sys: 38.5 s, total: 1min 29s\n",
      "Wall time: 45.6 s\n",
      "CPU times: user 7.73 s, sys: 6.07 s, total: 13.8 s\n",
      "Wall time: 13.3 s\n"
     ]
    }
   ],
   "source": [
    "pca = decomposition.IncrementalPCA(n_components=68, batch_size=68 * 2)\n",
    "%time pca.fit(train_ins)\n",
    "%time train_ins = pca.transform(train_ins)\n",
    "%time test_ins = pca.transform(test_ins)"
   ]
  },
  {
   "cell_type": "code",
   "execution_count": 18,
   "metadata": {},
   "outputs": [
    {
     "name": "stdout",
     "output_type": "stream",
     "text": [
      "there are 68 input features\n"
     ]
    }
   ],
   "source": [
    "n_features = train_ins.shape[-1]\n",
    "print(f\"there are {n_features} input features\")"
   ]
  },
  {
   "cell_type": "markdown",
   "metadata": {},
   "source": [
    "### Casting floats \n",
    "We further reduce the size of data by casting the dataset from `float64` to `float32`"
   ]
  },
  {
   "cell_type": "code",
   "execution_count": 23,
   "metadata": {},
   "outputs": [],
   "source": [
    "train_ins = train_ins.astype(\"float32\", copy=False)\n",
    "test_ins =  test_ins.astype(\"float32\", copy=False)"
   ]
  },
  {
   "cell_type": "markdown",
   "metadata": {},
   "source": [
    "## Commit data to disk\n",
    "The data is ready for building models.\n",
    "We commit them to disk using `numpy.savez()`"
   ]
  },
  {
   "cell_type": "code",
   "execution_count": 27,
   "metadata": {},
   "outputs": [],
   "source": [
    "# Convert training output to numpy array\n",
    "train_outs = train_outs.values"
   ]
  },
  {
   "cell_type": "code",
   "execution_count": 29,
   "metadata": {},
   "outputs": [],
   "source": [
    "with open(\"data/groceries/groceries_dataset.npz\", \"wb\") as f:\n",
    "    np.savez(f, train_ins=train_ins, \n",
    "        train_outs=train_outs,\n",
    "        test_ins=test_ins)"
   ]
  },
  {
   "cell_type": "markdown",
   "metadata": {},
   "source": [
    "Save the PCA object for future use"
   ]
  },
  {
   "cell_type": "code",
   "execution_count": null,
   "metadata": {},
   "outputs": [],
   "source": [
    "with open(\"data/groceries/pca.pickle\", \"wb\") as"
   ]
  }
 ],
 "metadata": {
  "kernelspec": {
   "display_name": "Python 3",
   "language": "python",
   "name": "python3"
  },
  "language_info": {
   "codemirror_mode": {
    "name": "ipython",
    "version": 3
   },
   "file_extension": ".py",
   "mimetype": "text/x-python",
   "name": "python",
   "nbconvert_exporter": "python",
   "pygments_lexer": "ipython3",
   "version": "3.6.7"
  }
 },
 "nbformat": 4,
 "nbformat_minor": 2
}
