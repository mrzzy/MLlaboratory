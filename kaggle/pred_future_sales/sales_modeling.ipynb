{
 "cells": [
  {
   "cell_type": "markdown",
   "metadata": {},
   "source": [
    "# Kaggle - Predict Future Sales Competition - Modeling\n",
    "In this notebook, we train various models to predict the sales price.\n",
    "\n",
    "## Setup & Imports"
   ]
  },
  {
   "cell_type": "code",
   "execution_count": 1,
   "metadata": {},
   "outputs": [],
   "source": [
    "import os\n",
    "import dask\n",
    "import time\n",
    "import joblib\n",
    "import numpy as np\n",
    "import seaborn as sns\n",
    "import matplotlib.pyplot as plt\n",
    "\n",
    "from scipy import sparse\n",
    "from dask.delayed import delayed\n",
    "from dask.distributed import Client\n",
    "from sklearn.metrics import *\n",
    "from sklearn.model_selection import *\n",
    "from sklearn.linear_model import LinearRegression, SGDRegressor\n",
    "\n",
    "from sklearn.ensemble import RandomForestRegressor\n",
    "from xgboost import XGBRegressor\n",
    "from hyperopt import hp, fmin, tpe, Trials, STATUS_OK"
   ]
  },
  {
   "cell_type": "code",
   "execution_count": 2,
   "metadata": {},
   "outputs": [
    {
     "data": {
      "text/html": [
       "<table style=\"border: 2px solid white;\">\n",
       "<tr>\n",
       "<td style=\"vertical-align: top; border: 0px solid white\">\n",
       "<h3 style=\"text-align: left;\">Client</h3>\n",
       "<ul style=\"text-align: left; list-style: none; margin: 0; padding: 0;\">\n",
       "  <li><b>Scheduler: </b>tcp://127.0.0.1:43637</li>\n",
       "  <li><b>Dashboard: </b><a href='http://127.0.0.1:8787/status' target='_blank'>http://127.0.0.1:8787/status</a>\n",
       "</ul>\n",
       "</td>\n",
       "<td style=\"vertical-align: top; border: 0px solid white\">\n",
       "<h3 style=\"text-align: left;\">Cluster</h3>\n",
       "<ul style=\"text-align: left; list-style:none; margin: 0; padding: 0;\">\n",
       "  <li><b>Workers: </b>4</li>\n",
       "  <li><b>Cores: </b>12</li>\n",
       "  <li><b>Memory: </b>16.24 GB</li>\n",
       "</ul>\n",
       "</td>\n",
       "</tr>\n",
       "</table>"
      ],
      "text/plain": [
       "<Client: 'tcp://127.0.0.1:43637' processes=4 threads=12, memory=16.24 GB>"
      ]
     },
     "execution_count": 2,
     "metadata": {},
     "output_type": "execute_result"
    }
   ],
   "source": [
    "client = Client()\n",
    "client"
   ]
  },
  {
   "cell_type": "markdown",
   "metadata": {},
   "source": [
    "# Load Data \n",
    "Load the data we prepared in the previous notebook"
   ]
  },
  {
   "cell_type": "code",
   "execution_count": 3,
   "metadata": {},
   "outputs": [],
   "source": [
    "all_sales_features = sparse.load_npz(\"build/train_sales_features.npz\")\n",
    "test_sales_features = sparse.load_npz(\"build/test_sales_features.npz\")\n",
    "all_sales_months = np.load(\"build/sales_month.npz\")[\"train\"]\n",
    "test_sales_months = np.load(\"build/sales_month.npz\")[\"test\"]"
   ]
  },
  {
   "cell_type": "code",
   "execution_count": 4,
   "metadata": {},
   "outputs": [
    {
     "name": "stdout",
     "output_type": "stream",
     "text": [
      "no. of train/valid data: 2741567\n",
      "no. of test data: 5000\n"
     ]
    }
   ],
   "source": [
    "print(f\"no. of train/valid data: {all_sales_features.shape[0]}\")\n",
    "print(f\"no. of test data: {test_sales_features.shape[0]}\")"
   ]
  },
  {
   "cell_type": "markdown",
   "metadata": {},
   "source": [
    "Split the training data into train and validation subsets"
   ]
  },
  {
   "cell_type": "code",
   "execution_count": 5,
   "metadata": {},
   "outputs": [],
   "source": [
    "all_idxs = np.arange(len(all_sales_months))\n",
    "train_idxs, valid_idxs = train_test_split(all_idxs,\n",
    "                                          test_size=5000)\n",
    "\n",
    "\n",
    "train_sales_features = all_sales_features[train_idxs]\n",
    "valid_sales_features = all_sales_features[valid_idxs]\n",
    "train_sales_months = all_sales_months[train_idxs]\n",
    "valid_sales_months = all_sales_months[valid_idxs]"
   ]
  },
  {
   "cell_type": "markdown",
   "metadata": {},
   "source": [
    "Setup split for validation data"
   ]
  },
  {
   "cell_type": "code",
   "execution_count": 6,
   "metadata": {},
   "outputs": [],
   "source": [
    "# setup split for validation data\n",
    "valid_fold = np.full(all_idxs.shape, -1)\n",
    "valid_fold[valid_idxs] = 0\n",
    "valid_split = PredefinedSplit(valid_fold)"
   ]
  },
  {
   "cell_type": "markdown",
   "metadata": {},
   "source": [
    "# Train Model\n",
    "## Model Selection\n",
    "Inital modeling: train a selection of models to choose one to optimise:\n",
    "- Linear: SGDRegressor\n",
    "- Decision Tree: XGBoost\n",
    "\n",
    "> These models where choosen due to the large data size\n",
    "\n",
    "\n",
    "Since we are training a regression model, our optimisation ob"
   ]
  },
  {
   "cell_type": "code",
   "execution_count": 7,
   "metadata": {},
   "outputs": [
    {
     "data": {
      "text/plain": [
       "(2741567,)"
      ]
     },
     "execution_count": 7,
     "metadata": {},
     "output_type": "execute_result"
    }
   ],
   "source": [
    "all_idxs.shape"
   ]
  },
  {
   "cell_type": "code",
   "execution_count": 8,
   "metadata": {},
   "outputs": [
    {
     "name": "stdout",
     "output_type": "stream",
     "text": [
      "training...  XGBRegressor\n",
      "[16:36:07] WARNING: /workspace/src/objective/regression_obj.cu:152: reg:linear is now deprecated in favor of reg:squarederror.\n",
      "training...  SGDRegressor\n",
      "CPU times: user 24min 49s, sys: 7.91 s, total: 24min 57s\n",
      "Wall time: 5min 3s\n"
     ]
    }
   ],
   "source": [
    "%%time\n",
    "\n",
    "models = [\n",
    "    # linear model\n",
    "    XGBRegressor(n_jobs=-1),\n",
    "    SGDRegressor()\n",
    "]\n",
    "\n",
    "# trains model and returns cross validation results\n",
    "def train_model(model):\n",
    "    print(\"training... \", model.__class__.__name__)\n",
    "    return cross_validate(model,\n",
    "                          all_sales_features,\n",
    "                          all_sales_months,\n",
    "                          scoring=make_scorer(\n",
    "                              mean_squared_error,\n",
    "                              greater_is_better=False\n",
    "                          ),\n",
    "                          return_train_score=True,\n",
    "                          return_estimator=True,\n",
    "                          cv=valid_split)\n",
    "\n",
    "results = [  train_model(model) for model in models ]"
   ]
  },
  {
   "cell_type": "code",
   "execution_count": 9,
   "metadata": {},
   "outputs": [
    {
     "name": "stdout",
     "output_type": "stream",
     "text": [
      "XGBRegressor valid mse: [-240.05124769]\n",
      "SGDRegressor valid mse: [-870.98038474]\n"
     ]
    }
   ],
   "source": [
    "print(f\"XGBRegressor valid mse: {results[0]['test_score']}\")\n",
    "print(f\"SGDRegressor valid mse: {results[1]['test_score']}\")"
   ]
  },
  {
   "cell_type": "markdown",
   "metadata": {},
   "source": [
    "## Hyperparameter Tuning \n",
    "### Evaluate Model\n",
    "Evaluate model's performance using learning curve:"
   ]
  },
  {
   "cell_type": "code",
   "execution_count": 10,
   "metadata": {},
   "outputs": [
    {
     "name": "stdout",
     "output_type": "stream",
     "text": [
      "CPU times: user 26.5 s, sys: 5.96 s, total: 32.5 s\n",
      "Wall time: 9min 15s\n"
     ]
    },
    {
     "data": {
      "image/png": "[encoded data removed]",
      "text/plain": [
       "<Figure size 864x576 with 1 Axes>"
      ]
     },
     "metadata": {
      "needs_background": "light"
     },
     "output_type": "display_data"
    }
   ],
   "source": [
    "%%time\n",
    "def plot_learning_curve(model):\n",
    "    # evaluate model at different dataset sizes to collect data for learning curve\n",
    "    train_sizes, train_mses, valid_mses = learning_curve(\n",
    "        XGBRegressor(n_jobs=-1),\n",
    "        all_sales_features,\n",
    "        all_sales_months,\n",
    "        scoring=make_scorer(mean_squared_error, greater_is_better=False),\n",
    "        cv=valid_split,\n",
    "        n_jobs=-1)\n",
    "    # plot learning\n",
    "    plt.figure(figsize=(12, 8))\n",
    "    plt.title(\"Learning Curve\")\n",
    "    plt.plot(train_sizes, -train_mses, \"r-\", label=\"Training MSE\")\n",
    "    plt.plot(train_sizes, -valid_mses, \"g-\", label=\"Validation MSE\")\n",
    "    plt.legend()\n",
    "    \n",
    "plot_learning_curve(XGBRegressor(n_jobs=-1))"
   ]
  },
  {
   "cell_type": "markdown",
   "metadata": {},
   "source": [
    "Based on the learning curve above, we can infer that the model is overfitting.\n",
    "Methods to combat overfitting with `xgboost`\n",
    "- Reducing the number of estimators `n_estimators`\n",
    "- Reducing the max depth of trees trained `max_depth`\n",
    "- Increasing the `gamma`/`min_split_loss` to add regularisation\n",
    "- Increasing `subsample` to ensure that each tree only sees a sample of the dataset"
   ]
  },
  {
   "cell_type": "markdown",
   "metadata": {},
   "source": [
    "### Tune Hyperparameters\n",
    "Tune Hyperparameters with `hyperopt`:\n",
    "- define objective function `train_evaluate_model()` for `hyperopt`:"
   ]
  },
  {
   "cell_type": "code",
   "execution_count": 11,
   "metadata": {},
   "outputs": [],
   "source": [
    "# evaluate train model, returning metrics \n",
    "# returns mse, mae, r2\n",
    "def evaluate_model(model, inputs, actuals):\n",
    "    predicts = model.predict(inputs)\n",
    "    return (\n",
    "        mean_squared_error(actuals, predicts),\n",
    "        mean_absolute_error(actuals, predicts),\n",
    "        r2_score(actuals, predicts)\n",
    "    )\n",
    "\n",
    "# train and evaluate based on the given parameters:\n",
    "def train_evaluate_model(params):\n",
    "    # train model with selected hyperparameters\n",
    "    print(params)\n",
    "    begin_time = time.time()\n",
    "    model = XGBRegressor(n_jobs=-1, **params)\n",
    "    model.fit(train_sales_features, train_sales_months)\n",
    "    train_secs = time.time() - begin_time \n",
    "\n",
    "    # evaluate trained model\n",
    "    train_mse, train_mae, train_r2 = evaluate_model(model, \n",
    "                                                    train_sales_features,\n",
    "                                                    train_sales_months)\n",
    "    \n",
    "    valid_mse, valid_mae, valid_r2 = evaluate_model(model, \n",
    "                                                    valid_sales_features,\n",
    "                                                    valid_sales_months)\n",
    "    eval_secs = time.time() - (begin_time + train_secs)\n",
    "    \n",
    "    return {\n",
    "        \"loss\": train_mse,\n",
    "        \"status\": STATUS_OK,\n",
    "        \"true_loss\": valid_mse,\n",
    "        \"metrics\": {\n",
    "            \"train_mse\": train_mse,\n",
    "            \"valid_mse\": valid_mse, \n",
    "            \"train_mae\": train_mae,\n",
    "            \"valid_mae\": valid_mae, \n",
    "            \"train_r2\": train_r2,\n",
    "            \"valid_r2\": valid_r2,\n",
    "        },\n",
    "        \"timings\": {\n",
    "            \"train_secs\": train_secs,\n",
    "            \"eval_secs\": eval_secs,\n",
    "        }\n",
    "    }"
   ]
  },
  {
   "cell_type": "markdown",
   "metadata": {},
   "source": [
    "- define parameter space for hyperparamter tuning"
   ]
  },
  {
   "cell_type": "code",
   "execution_count": 12,
   "metadata": {},
   "outputs": [],
   "source": [
    "param_space = {\n",
    "    \"lr\": hp.loguniform(\"learning_rate\", -4, 1),\n",
    "    \"max_depth\": 2 + hp.randint(\"max_depth\", 8),\n",
    "    \"n_est\": 40 + hp.randint(\"n_estimators\", 125),\n",
    "    \"min_split_loss\": hp.loguniform(\"min_split_loss\", -4, 2),\n",
    "    \"subsample\": hp.uniform(\"subsample\", 0.4, 1.0)\n",
    "}"
   ]
  },
  {
   "cell_type": "markdown",
   "metadata": {},
   "source": [
    "- perform hyper parameter search with `hyperopt`'s `TPE`:"
   ]
  },
  {
   "cell_type": "code",
   "execution_count": 13,
   "metadata": {},
   "outputs": [
    {
     "name": "stdout",
     "output_type": "stream",
     "text": []
    },
    {
     "name": "stdout",
     "output_type": "stream",
     "text": [
      "{'lr': 0.33334297588607714, 'max_depth': 2, 'min_split_loss': 0.040378168234139936, 'n_est': 109, 'subsample': 0.9609977235767413}\n",
      "[16:50:27] WARNING: /workspace/src/objective/regression_obj.cu:152: reg:linear is now deprecated in favor of reg:squarederror.\n",
      "{'lr': 0.021702913848904954, 'max_depth': 8, 'min_split_loss': 0.0971916970082859, 'n_est': 78, 'subsample': 0.653003657137108}\n",
      "[16:52:59] WARNING: /workspace/src/objective/regression_obj.cu:152: reg:linear is now deprecated in favor of reg:squarederror.\n",
      "{'lr': 0.02391136605801696, 'max_depth': 3, 'min_split_loss': 0.09441261620166472, 'n_est': 164, 'subsample': 0.7017728511829803}\n",
      "[17:01:26] WARNING: /workspace/src/objective/regression_obj.cu:152: reg:linear is now deprecated in favor of reg:squarederror.\n",
      "{'lr': 1.551613901995598, 'max_depth': 9, 'min_split_loss': 0.03398800151660092, 'n_est': 157, 'subsample': 0.5483384612002199}\n",
      "[17:05:12] WARNING: /workspace/src/objective/regression_obj.cu:152: reg:linear is now deprecated in favor of reg:squarederror.\n",
      "{'lr': 1.0456733988833813, 'max_depth': 6, 'min_split_loss': 0.08788371238773172, 'n_est': 150, 'subsample': 0.4114257190325229}\n",
      "[17:15:24] WARNING: /workspace/src/objective/regression_obj.cu:152: reg:linear is now deprecated in favor of reg:squarederror.\n",
      "{'lr': 0.41231056432101154, 'max_depth': 4, 'min_split_loss': 1.8087679897215654, 'n_est': 106, 'subsample': 0.7727303606252891}\n",
      "[17:22:33] WARNING: /workspace/src/objective/regression_obj.cu:152: reg:linear is now deprecated in favor of reg:squarederror.\n",
      "{'lr': 1.8840698765731412, 'max_depth': 9, 'min_split_loss': 0.03190010847759248, 'n_est': 158, 'subsample': 0.7958338414035506}\n",
      "[17:26:51] WARNING: /workspace/src/objective/regression_obj.cu:152: reg:linear is now deprecated in favor of reg:squarederror.\n",
      "{'lr': 0.03179402939373352, 'max_depth': 7, 'min_split_loss': 5.54523896389877, 'n_est': 53, 'subsample': 0.8813670615385216}\n",
      "[17:36:03] WARNING: /workspace/src/objective/regression_obj.cu:152: reg:linear is now deprecated in favor of reg:squarederror.\n",
      "100%|██████████| 8/8 [52:48<00:00, 396.08s/it, best loss: 153.863260658444]\n"
     ]
    }
   ],
   "source": [
    "trials = Trials()\n",
    "best_params = fmin(train_evaluate_model,\n",
    "                   space=param_space,\n",
    "                   algo=tpe.suggest,\n",
    "                   max_evals=8,\n",
    "                   trials=trials)"
   ]
  },
  {
   "cell_type": "markdown",
   "metadata": {},
   "source": []
  }
 ],
 "metadata": {
  "kernelspec": {
   "display_name": "Python 3",
   "language": "python",
   "name": "python3"
  },
  "language_info": {
   "codemirror_mode": {
    "name": "ipython",
    "version": 3
   },
   "file_extension": ".py",
   "mimetype": "text/x-python",
   "name": "python",
   "nbconvert_exporter": "python",
   "pygments_lexer": "ipython3",
   "version": "3.6.9"
  }
 },
 "nbformat": 4,
 "nbformat_minor": 2
}
