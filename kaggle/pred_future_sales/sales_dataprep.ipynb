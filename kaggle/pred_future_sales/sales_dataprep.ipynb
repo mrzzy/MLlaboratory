{
 "cells": [
  {
   "cell_type": "markdown",
   "metadata": {},
   "source": [
    "# Kaggle - Predict Future Sales Competition - Data Preparation\n",
    "In this notebook, we prepare the the Future Sales dataset for modeling\n",
    "\n",
    "## Setup & Imports"
   ]
  },
  {
   "cell_type": "code",
   "execution_count": 1,
   "metadata": {},
   "outputs": [],
   "source": [
    "import os\n",
    "import joblib\n",
    "import numpy as np\n",
    "import pandas as pd\n",
    "import matplotlib.pyplot as plt\n",
    "import seaborn as sns\n",
    "\n",
    "from scipy import sparse\n",
    "from sklearn.preprocessing import *\n",
    "from sklearn.compose import ColumnTransformer\n",
    "from sklearn.pipeline import Pipeline\n",
    "from sklearn.feature_extraction.text import TfidfVectorizer\n",
    "from sklearn.model_selection import *\n",
    "from sklearn.decomposition import TruncatedSVD\n",
    "from datetime import datetime\n",
    "from tqdm import tqdm\n",
    "from multiprocessing import cpu_count\n",
    "\n",
    "tqdm.pandas()\n",
    "\n",
    "%matplotlib inline\n",
    "%load_ext autoreload\n",
    "%autoreload 2"
   ]
  },
  {
   "cell_type": "markdown",
   "metadata": {},
   "source": [
    "# Load Data\n",
    "The data set is split into various CSVs files that have to be reconciled together:\n",
    "- sales_train.csv - the training set. Daily historical data from January 2013 to October 2015.\n",
    "- test.csv - the test set. You need to forecast the sales for these shops and products for November 2015.\n",
    "- sample_submission.csv - a sample submission file in the correct format.\n",
    "- items.csv - supplemental information about the items/products.\n",
    "- item_categories.csv  - supplemental information about the items categories.\n",
    "- shops.csv- supplemental information about the shops."
   ]
  },
  {
   "cell_type": "code",
   "execution_count": 2,
   "metadata": {},
   "outputs": [
    {
     "name": "stdout",
     "output_type": "stream",
     "text": [
      "train_df cols: Index(['date', 'date_block_num', 'shop_id', 'item_id', 'item_price',\n",
      "       'item_cnt_day'],\n",
      "      dtype='object')\n",
      "test_df cols: Index(['ID', 'shop_id', 'item_id'], dtype='object')\n",
      "items_df cols: Index(['item_name', 'item_id', 'item_category_id'], dtype='object')\n",
      "items_cats_df cols: Index(['item_category_name', 'item_category_id'], dtype='object')\n",
      "shops_df cols: Index(['shop_name', 'shop_id'], dtype='object')\n"
     ]
    }
   ],
   "source": [
    "train_df = pd.read_csv(\"./data/sales_train.csv\")\n",
    "print(f\"train_df cols: {train_df.columns}\")\n",
    "test_df = pd.read_csv(\"./data/test.csv\")\n",
    "print(f\"test_df cols: {test_df.columns}\")\n",
    "items_df = pd.read_csv(\"./data/items.csv\")\n",
    "print(f\"items_df cols: {items_df.columns}\")\n",
    "item_cats_df = pd.read_csv(\"./data/item_categories.csv\")\n",
    "print(f\"items_cats_df cols: {item_cats_df.columns}\")\n",
    "shops_df = pd.read_csv(\"./data/shops.csv\")\n",
    "print(f\"shops_df cols: {shops_df.columns}\")"
   ]
  },
  {
   "cell_type": "code",
   "execution_count": 3,
   "metadata": {},
   "outputs": [],
   "source": [
    "# merges axillary column from other columns on to the given dataframe df\n",
    "# returns the with dataframe with merged columns\n",
    "def merge_axillary_cols(df, shops_df=shops_df, items_df=items_df, \n",
    "                        item_cats_df=item_cats_df):\n",
    "    df = pd.merge(df, shops_df, on=\"shop_id\")\n",
    "    df = pd.merge(df, items_df, on=\"item_id\")\n",
    "    df = pd.merge(df, item_cats_df, on=\"item_category_id\")\n",
    "    \n",
    "    return df\n",
    "\n",
    "df = merge_axillary_cols(train_df)\n",
    "test_df = merge_axillary_cols(test_df)"
   ]
  },
  {
   "cell_type": "markdown",
   "metadata": {},
   "source": [
    "# Explore Data\n",
    "Conduct exploratory data analysis on the training set.\n",
    "\n",
    "Description of each feature derived from Kaggle:\n",
    "- ID - an Id that represents a (Shop, Item) tuple within the test set\n",
    "- shop_id - unique identifier of a shop\n",
    "- item_id - unique identifier of a product\n",
    "- item_category_id - unique identifier of item category\n",
    "- item_cnt_day - **prediction target** number of products sold. You are predicting a _monthly_ amount of this measure @ Nov 2015.\n",
    "- item_price - current price of an item\n",
    "- date - date in format dd/mm/yyyy\n",
    "- date_block_num - a consecutive month number, used for convenience. January 2013 is 0, February 2013 is 1,..., October 2015 is 33\n",
    "- item_name - name of item\n",
    "- shop_name - name of shop\n",
    "- item_category_name - name of item category"
   ]
  },
  {
   "cell_type": "code",
   "execution_count": 4,
   "metadata": {},
   "outputs": [
    {
     "data": {
      "text/html": [
       "<div>\n",
       "<style scoped>\n",
       "    .dataframe tbody tr th:only-of-type {\n",
       "        vertical-align: middle;\n",
       "    }\n",
       "\n",
       "    .dataframe tbody tr th {\n",
       "        vertical-align: top;\n",
       "    }\n",
       "\n",
       "    .dataframe thead th {\n",
       "        text-align: right;\n",
       "    }\n",
       "</style>\n",
       "<table border=\"1\" class=\"dataframe\">\n",
       "  <thead>\n",
       "    <tr style=\"text-align: right;\">\n",
       "      <th></th>\n",
       "      <th>date</th>\n",
       "      <th>date_block_num</th>\n",
       "      <th>shop_id</th>\n",
       "      <th>item_id</th>\n",
       "      <th>item_price</th>\n",
       "      <th>item_cnt_day</th>\n",
       "      <th>shop_name</th>\n",
       "      <th>item_name</th>\n",
       "      <th>item_category_id</th>\n",
       "      <th>item_category_name</th>\n",
       "    </tr>\n",
       "  </thead>\n",
       "  <tbody>\n",
       "    <tr>\n",
       "      <th>1164841</th>\n",
       "      <td>29.12.2013</td>\n",
       "      <td>11</td>\n",
       "      <td>19</td>\n",
       "      <td>3851</td>\n",
       "      <td>899.0</td>\n",
       "      <td>1.0</td>\n",
       "      <td>Курск ТЦ \"Пушкинский\"</td>\n",
       "      <td>Heavy Rain (Essentials) (с поддержкой PS Move)...</td>\n",
       "      <td>19</td>\n",
       "      <td>Игры - PS3</td>\n",
       "    </tr>\n",
       "    <tr>\n",
       "      <th>1276098</th>\n",
       "      <td>28.10.2013</td>\n",
       "      <td>9</td>\n",
       "      <td>43</td>\n",
       "      <td>11813</td>\n",
       "      <td>2699.0</td>\n",
       "      <td>-1.0</td>\n",
       "      <td>СПб ТК \"Сенная\"</td>\n",
       "      <td>За гранью: Две души. Специальное издание [PS3,...</td>\n",
       "      <td>19</td>\n",
       "      <td>Игры - PS3</td>\n",
       "    </tr>\n",
       "    <tr>\n",
       "      <th>2038371</th>\n",
       "      <td>16.10.2015</td>\n",
       "      <td>33</td>\n",
       "      <td>39</td>\n",
       "      <td>10200</td>\n",
       "      <td>399.0</td>\n",
       "      <td>1.0</td>\n",
       "      <td>РостовНаДону ТРК \"Мегацентр Горизонт\"</td>\n",
       "      <td>Ведьмак 3: Дикая Охота - Дополнение \"Каменные ...</td>\n",
       "      <td>28</td>\n",
       "      <td>Игры PC - Дополнительные издания</td>\n",
       "    </tr>\n",
       "    <tr>\n",
       "      <th>1176280</th>\n",
       "      <td>20.02.2013</td>\n",
       "      <td>1</td>\n",
       "      <td>0</td>\n",
       "      <td>17707</td>\n",
       "      <td>734.0</td>\n",
       "      <td>1.0</td>\n",
       "      <td>!Якутск Орджоникидзе, 56 фран</td>\n",
       "      <td>Праздник спорта (Essentials) (только для PS Mo...</td>\n",
       "      <td>19</td>\n",
       "      <td>Игры - PS3</td>\n",
       "    </tr>\n",
       "    <tr>\n",
       "      <th>309561</th>\n",
       "      <td>27.09.2013</td>\n",
       "      <td>8</td>\n",
       "      <td>31</td>\n",
       "      <td>17212</td>\n",
       "      <td>149.0</td>\n",
       "      <td>1.0</td>\n",
       "      <td>Москва ТЦ \"Семеновский\"</td>\n",
       "      <td>ПОЛНОЧЬ В ПАРИЖЕ</td>\n",
       "      <td>40</td>\n",
       "      <td>Кино - DVD</td>\n",
       "    </tr>\n",
       "  </tbody>\n",
       "</table>\n",
       "</div>"
      ],
      "text/plain": [
       "               date  date_block_num  shop_id  item_id  item_price  \\\n",
       "1164841  29.12.2013              11       19     3851       899.0   \n",
       "1276098  28.10.2013               9       43    11813      2699.0   \n",
       "2038371  16.10.2015              33       39    10200       399.0   \n",
       "1176280  20.02.2013               1        0    17707       734.0   \n",
       "309561   27.09.2013               8       31    17212       149.0   \n",
       "\n",
       "         item_cnt_day                              shop_name  \\\n",
       "1164841           1.0                  Курск ТЦ \"Пушкинский\"   \n",
       "1276098          -1.0                        СПб ТК \"Сенная\"   \n",
       "2038371           1.0  РостовНаДону ТРК \"Мегацентр Горизонт\"   \n",
       "1176280           1.0          !Якутск Орджоникидзе, 56 фран   \n",
       "309561            1.0                Москва ТЦ \"Семеновский\"   \n",
       "\n",
       "                                                 item_name  item_category_id  \\\n",
       "1164841  Heavy Rain (Essentials) (с поддержкой PS Move)...                19   \n",
       "1276098  За гранью: Две души. Специальное издание [PS3,...                19   \n",
       "2038371  Ведьмак 3: Дикая Охота - Дополнение \"Каменные ...                28   \n",
       "1176280  Праздник спорта (Essentials) (только для PS Mo...                19   \n",
       "309561                                    ПОЛНОЧЬ В ПАРИЖЕ                40   \n",
       "\n",
       "                       item_category_name  \n",
       "1164841                        Игры - PS3  \n",
       "1276098                        Игры - PS3  \n",
       "2038371  Игры PC - Дополнительные издания  \n",
       "1176280                        Игры - PS3  \n",
       "309561                         Кино - DVD  "
      ]
     },
     "execution_count": 4,
     "metadata": {},
     "output_type": "execute_result"
    }
   ],
   "source": [
    "df.sample(5)"
   ]
  },
  {
   "cell_type": "code",
   "execution_count": 5,
   "metadata": {},
   "outputs": [
    {
     "name": "stdout",
     "output_type": "stream",
     "text": [
      "<class 'pandas.core.frame.DataFrame'>\n",
      "Int64Index: 2935849 entries, 0 to 2935848\n",
      "Data columns (total 10 columns):\n",
      "date                  object\n",
      "date_block_num        int64\n",
      "shop_id               int64\n",
      "item_id               int64\n",
      "item_price            float64\n",
      "item_cnt_day          float64\n",
      "shop_name             object\n",
      "item_name             object\n",
      "item_category_id      int64\n",
      "item_category_name    object\n",
      "dtypes: float64(2), int64(4), object(4)\n",
      "memory usage: 246.4+ MB\n"
     ]
    }
   ],
   "source": [
    "df.info()"
   ]
  },
  {
   "cell_type": "markdown",
   "metadata": {},
   "source": [
    "#### Correcting Types\n",
    "We need to convert the dates into datetime format:"
   ]
  },
  {
   "cell_type": "code",
   "execution_count": 6,
   "metadata": {},
   "outputs": [
    {
     "name": "stdout",
     "output_type": "stream",
     "text": [
      "CPU times: user 7.81 s, sys: 9.86 ms, total: 7.82 s\n",
      "Wall time: 7.79 s\n"
     ]
    }
   ],
   "source": [
    "%time  df[\"date\"] = pd.to_datetime(df[\"date\"], format=\"%d.%m.%Y\")"
   ]
  },
  {
   "cell_type": "markdown",
   "metadata": {},
   "source": [
    "#### Time Series Ordering\n",
    "Since the data is time series, we enforce the flow of time by sorting the data:"
   ]
  },
  {
   "cell_type": "code",
   "execution_count": 7,
   "metadata": {},
   "outputs": [],
   "source": [
    "df = df.sort_values(by=\"date\")"
   ]
  },
  {
   "cell_type": "markdown",
   "metadata": {},
   "source": [
    "#### Missing Values\n",
    "Check for missing values:"
   ]
  },
  {
   "cell_type": "code",
   "execution_count": 8,
   "metadata": {},
   "outputs": [
    {
     "data": {
      "text/plain": [
       "False"
      ]
     },
     "execution_count": 8,
     "metadata": {},
     "output_type": "execute_result"
    }
   ],
   "source": [
    "df.isna().any().any()"
   ]
  },
  {
   "cell_type": "markdown",
   "metadata": {},
   "source": [
    "Display a statistical summary of the training data:"
   ]
  },
  {
   "cell_type": "code",
   "execution_count": 9,
   "metadata": {},
   "outputs": [
    {
     "data": {
      "text/html": [
       "<div>\n",
       "<style scoped>\n",
       "    .dataframe tbody tr th:only-of-type {\n",
       "        vertical-align: middle;\n",
       "    }\n",
       "\n",
       "    .dataframe tbody tr th {\n",
       "        vertical-align: top;\n",
       "    }\n",
       "\n",
       "    .dataframe thead th {\n",
       "        text-align: right;\n",
       "    }\n",
       "</style>\n",
       "<table border=\"1\" class=\"dataframe\">\n",
       "  <thead>\n",
       "    <tr style=\"text-align: right;\">\n",
       "      <th></th>\n",
       "      <th>date</th>\n",
       "      <th>date_block_num</th>\n",
       "      <th>shop_id</th>\n",
       "      <th>item_id</th>\n",
       "      <th>item_price</th>\n",
       "      <th>item_cnt_day</th>\n",
       "      <th>shop_name</th>\n",
       "      <th>item_name</th>\n",
       "      <th>item_category_id</th>\n",
       "      <th>item_category_name</th>\n",
       "    </tr>\n",
       "  </thead>\n",
       "  <tbody>\n",
       "    <tr>\n",
       "      <th>count</th>\n",
       "      <td>2935849</td>\n",
       "      <td>2.935849e+06</td>\n",
       "      <td>2.935849e+06</td>\n",
       "      <td>2.935849e+06</td>\n",
       "      <td>2.935849e+06</td>\n",
       "      <td>2.935849e+06</td>\n",
       "      <td>2935849</td>\n",
       "      <td>2935849</td>\n",
       "      <td>2.935849e+06</td>\n",
       "      <td>2935849</td>\n",
       "    </tr>\n",
       "    <tr>\n",
       "      <th>unique</th>\n",
       "      <td>1034</td>\n",
       "      <td>NaN</td>\n",
       "      <td>NaN</td>\n",
       "      <td>NaN</td>\n",
       "      <td>NaN</td>\n",
       "      <td>NaN</td>\n",
       "      <td>60</td>\n",
       "      <td>21807</td>\n",
       "      <td>NaN</td>\n",
       "      <td>84</td>\n",
       "    </tr>\n",
       "    <tr>\n",
       "      <th>top</th>\n",
       "      <td>2013-12-28 00:00:00</td>\n",
       "      <td>NaN</td>\n",
       "      <td>NaN</td>\n",
       "      <td>NaN</td>\n",
       "      <td>NaN</td>\n",
       "      <td>NaN</td>\n",
       "      <td>Москва ТЦ \"Семеновский\"</td>\n",
       "      <td>Фирменный пакет майка 1С Интерес белый (34*42)...</td>\n",
       "      <td>NaN</td>\n",
       "      <td>Кино - DVD</td>\n",
       "    </tr>\n",
       "    <tr>\n",
       "      <th>freq</th>\n",
       "      <td>9434</td>\n",
       "      <td>NaN</td>\n",
       "      <td>NaN</td>\n",
       "      <td>NaN</td>\n",
       "      <td>NaN</td>\n",
       "      <td>NaN</td>\n",
       "      <td>235636</td>\n",
       "      <td>31340</td>\n",
       "      <td>NaN</td>\n",
       "      <td>564652</td>\n",
       "    </tr>\n",
       "    <tr>\n",
       "      <th>first</th>\n",
       "      <td>2013-01-01 00:00:00</td>\n",
       "      <td>NaN</td>\n",
       "      <td>NaN</td>\n",
       "      <td>NaN</td>\n",
       "      <td>NaN</td>\n",
       "      <td>NaN</td>\n",
       "      <td>NaN</td>\n",
       "      <td>NaN</td>\n",
       "      <td>NaN</td>\n",
       "      <td>NaN</td>\n",
       "    </tr>\n",
       "    <tr>\n",
       "      <th>last</th>\n",
       "      <td>2015-10-31 00:00:00</td>\n",
       "      <td>NaN</td>\n",
       "      <td>NaN</td>\n",
       "      <td>NaN</td>\n",
       "      <td>NaN</td>\n",
       "      <td>NaN</td>\n",
       "      <td>NaN</td>\n",
       "      <td>NaN</td>\n",
       "      <td>NaN</td>\n",
       "      <td>NaN</td>\n",
       "    </tr>\n",
       "    <tr>\n",
       "      <th>mean</th>\n",
       "      <td>NaN</td>\n",
       "      <td>1.456991e+01</td>\n",
       "      <td>3.300173e+01</td>\n",
       "      <td>1.019723e+04</td>\n",
       "      <td>8.908532e+02</td>\n",
       "      <td>1.242641e+00</td>\n",
       "      <td>NaN</td>\n",
       "      <td>NaN</td>\n",
       "      <td>4.000138e+01</td>\n",
       "      <td>NaN</td>\n",
       "    </tr>\n",
       "    <tr>\n",
       "      <th>std</th>\n",
       "      <td>NaN</td>\n",
       "      <td>9.422988e+00</td>\n",
       "      <td>1.622697e+01</td>\n",
       "      <td>6.324297e+03</td>\n",
       "      <td>1.729800e+03</td>\n",
       "      <td>2.618834e+00</td>\n",
       "      <td>NaN</td>\n",
       "      <td>NaN</td>\n",
       "      <td>1.710076e+01</td>\n",
       "      <td>NaN</td>\n",
       "    </tr>\n",
       "    <tr>\n",
       "      <th>min</th>\n",
       "      <td>NaN</td>\n",
       "      <td>0.000000e+00</td>\n",
       "      <td>0.000000e+00</td>\n",
       "      <td>0.000000e+00</td>\n",
       "      <td>-1.000000e+00</td>\n",
       "      <td>-2.200000e+01</td>\n",
       "      <td>NaN</td>\n",
       "      <td>NaN</td>\n",
       "      <td>0.000000e+00</td>\n",
       "      <td>NaN</td>\n",
       "    </tr>\n",
       "    <tr>\n",
       "      <th>25%</th>\n",
       "      <td>NaN</td>\n",
       "      <td>7.000000e+00</td>\n",
       "      <td>2.200000e+01</td>\n",
       "      <td>4.476000e+03</td>\n",
       "      <td>2.490000e+02</td>\n",
       "      <td>1.000000e+00</td>\n",
       "      <td>NaN</td>\n",
       "      <td>NaN</td>\n",
       "      <td>2.800000e+01</td>\n",
       "      <td>NaN</td>\n",
       "    </tr>\n",
       "    <tr>\n",
       "      <th>50%</th>\n",
       "      <td>NaN</td>\n",
       "      <td>1.400000e+01</td>\n",
       "      <td>3.100000e+01</td>\n",
       "      <td>9.343000e+03</td>\n",
       "      <td>3.990000e+02</td>\n",
       "      <td>1.000000e+00</td>\n",
       "      <td>NaN</td>\n",
       "      <td>NaN</td>\n",
       "      <td>4.000000e+01</td>\n",
       "      <td>NaN</td>\n",
       "    </tr>\n",
       "    <tr>\n",
       "      <th>75%</th>\n",
       "      <td>NaN</td>\n",
       "      <td>2.300000e+01</td>\n",
       "      <td>4.700000e+01</td>\n",
       "      <td>1.568400e+04</td>\n",
       "      <td>9.990000e+02</td>\n",
       "      <td>1.000000e+00</td>\n",
       "      <td>NaN</td>\n",
       "      <td>NaN</td>\n",
       "      <td>5.500000e+01</td>\n",
       "      <td>NaN</td>\n",
       "    </tr>\n",
       "    <tr>\n",
       "      <th>max</th>\n",
       "      <td>NaN</td>\n",
       "      <td>3.300000e+01</td>\n",
       "      <td>5.900000e+01</td>\n",
       "      <td>2.216900e+04</td>\n",
       "      <td>3.079800e+05</td>\n",
       "      <td>2.169000e+03</td>\n",
       "      <td>NaN</td>\n",
       "      <td>NaN</td>\n",
       "      <td>8.300000e+01</td>\n",
       "      <td>NaN</td>\n",
       "    </tr>\n",
       "  </tbody>\n",
       "</table>\n",
       "</div>"
      ],
      "text/plain": [
       "                       date  date_block_num       shop_id       item_id  \\\n",
       "count               2935849    2.935849e+06  2.935849e+06  2.935849e+06   \n",
       "unique                 1034             NaN           NaN           NaN   \n",
       "top     2013-12-28 00:00:00             NaN           NaN           NaN   \n",
       "freq                   9434             NaN           NaN           NaN   \n",
       "first   2013-01-01 00:00:00             NaN           NaN           NaN   \n",
       "last    2015-10-31 00:00:00             NaN           NaN           NaN   \n",
       "mean                    NaN    1.456991e+01  3.300173e+01  1.019723e+04   \n",
       "std                     NaN    9.422988e+00  1.622697e+01  6.324297e+03   \n",
       "min                     NaN    0.000000e+00  0.000000e+00  0.000000e+00   \n",
       "25%                     NaN    7.000000e+00  2.200000e+01  4.476000e+03   \n",
       "50%                     NaN    1.400000e+01  3.100000e+01  9.343000e+03   \n",
       "75%                     NaN    2.300000e+01  4.700000e+01  1.568400e+04   \n",
       "max                     NaN    3.300000e+01  5.900000e+01  2.216900e+04   \n",
       "\n",
       "          item_price  item_cnt_day                shop_name  \\\n",
       "count   2.935849e+06  2.935849e+06                  2935849   \n",
       "unique           NaN           NaN                       60   \n",
       "top              NaN           NaN  Москва ТЦ \"Семеновский\"   \n",
       "freq             NaN           NaN                   235636   \n",
       "first            NaN           NaN                      NaN   \n",
       "last             NaN           NaN                      NaN   \n",
       "mean    8.908532e+02  1.242641e+00                      NaN   \n",
       "std     1.729800e+03  2.618834e+00                      NaN   \n",
       "min    -1.000000e+00 -2.200000e+01                      NaN   \n",
       "25%     2.490000e+02  1.000000e+00                      NaN   \n",
       "50%     3.990000e+02  1.000000e+00                      NaN   \n",
       "75%     9.990000e+02  1.000000e+00                      NaN   \n",
       "max     3.079800e+05  2.169000e+03                      NaN   \n",
       "\n",
       "                                                item_name  item_category_id  \\\n",
       "count                                             2935849      2.935849e+06   \n",
       "unique                                              21807               NaN   \n",
       "top     Фирменный пакет майка 1С Интерес белый (34*42)...               NaN   \n",
       "freq                                                31340               NaN   \n",
       "first                                                 NaN               NaN   \n",
       "last                                                  NaN               NaN   \n",
       "mean                                                  NaN      4.000138e+01   \n",
       "std                                                   NaN      1.710076e+01   \n",
       "min                                                   NaN      0.000000e+00   \n",
       "25%                                                   NaN      2.800000e+01   \n",
       "50%                                                   NaN      4.000000e+01   \n",
       "75%                                                   NaN      5.500000e+01   \n",
       "max                                                   NaN      8.300000e+01   \n",
       "\n",
       "       item_category_name  \n",
       "count             2935849  \n",
       "unique                 84  \n",
       "top            Кино - DVD  \n",
       "freq               564652  \n",
       "first                 NaN  \n",
       "last                  NaN  \n",
       "mean                  NaN  \n",
       "std                   NaN  \n",
       "min                   NaN  \n",
       "25%                   NaN  \n",
       "50%                   NaN  \n",
       "75%                   NaN  \n",
       "max                   NaN  "
      ]
     },
     "execution_count": 9,
     "metadata": {},
     "output_type": "execute_result"
    }
   ],
   "source": [
    "df.describe(include=\"all\")"
   ]
  },
  {
   "cell_type": "markdown",
   "metadata": {},
   "source": [
    "We can observe that:\n",
    "- the `item_cnt_day` has wrong data, as it should be impossible to sell less than zero items. We can correct this by clipping this data at 0.\n",
    "- the `item_price` variable might log-normal distirbuted or contain extreme outliers at the higher values. It also have wrong values (min item is priced at -1.0)"
   ]
  },
  {
   "cell_type": "code",
   "execution_count": 10,
   "metadata": {},
   "outputs": [
    {
     "data": {
      "text/plain": [
       "array([[<matplotlib.axes._subplots.AxesSubplot object at 0x7fcde2e08e80>,\n",
       "        <matplotlib.axes._subplots.AxesSubplot object at 0x7fcdd90b0c18>],\n",
       "       [<matplotlib.axes._subplots.AxesSubplot object at 0x7fcdd9062d68>,\n",
       "        <matplotlib.axes._subplots.AxesSubplot object at 0x7fcdd901e2e8>],\n",
       "       [<matplotlib.axes._subplots.AxesSubplot object at 0x7fcdd904e898>,\n",
       "        <matplotlib.axes._subplots.AxesSubplot object at 0x7fcdd9000e48>]],\n",
       "      dtype=object)"
      ]
     },
     "execution_count": 10,
     "metadata": {},
     "output_type": "execute_result"
    },
    {
     "data": {
      "image/png": "[encoded data removed]",
      "text/plain": [
       "<Figure size 864x864 with 6 Axes>"
      ]
     },
     "metadata": {
      "needs_background": "light"
     },
     "output_type": "display_data"
    }
   ],
   "source": [
    "df.hist(figsize=(12, 12), bins=30)"
   ]
  },
  {
   "cell_type": "markdown",
   "metadata": {},
   "source": [
    "From the above histogram plot we observe:\n",
    "- `date_block_num` shows sales (by count) spike at intervals, perhaps during holiday shopping season\n",
    "- `item_id`, `shop_id` and `item_category_id` are categorical variables\n",
    "- Confirms our hunch that there is an extreme outlier at `item_price`"
   ]
  },
  {
   "cell_type": "markdown",
   "metadata": {},
   "source": [
    "### Wrong Data: Item Count Day\n",
    "Item counts per day should not be negative: It does not make logical sense to be able to sell a negative number of items"
   ]
  },
  {
   "cell_type": "code",
   "execution_count": 11,
   "metadata": {},
   "outputs": [
    {
     "data": {
      "text/plain": [
       "0.0"
      ]
     },
     "execution_count": 11,
     "metadata": {},
     "output_type": "execute_result"
    }
   ],
   "source": [
    "df[\"item_cnt_day\"] = df[\"item_cnt_day\"].clip(lower=0.0)\n",
    "df[\"item_cnt_day\"].min()"
   ]
  },
  {
   "cell_type": "markdown",
   "metadata": {},
   "source": [
    "### Wrong Data & Extreme Outliers: Item Price\n",
    "We investigate further by plotting boxplot :"
   ]
  },
  {
   "cell_type": "code",
   "execution_count": 12,
   "metadata": {},
   "outputs": [
    {
     "data": {
      "text/plain": [
       "<matplotlib.axes._subplots.AxesSubplot at 0x7fcdd8d7dd68>"
      ]
     },
     "execution_count": 12,
     "metadata": {},
     "output_type": "execute_result"
    },
    {
     "data": {
      "image/png": "[encoded data removed]",
      "text/plain": [
       "<Figure size 432x288 with 1 Axes>"
      ]
     },
     "metadata": {
      "needs_background": "light"
     },
     "output_type": "display_data"
    }
   ],
   "source": [
    "df.boxplot(column=\"item_price\", vert=False)"
   ]
  },
  {
   "cell_type": "markdown",
   "metadata": {},
   "source": [
    "We clip the data at the 99.95% quantile to remove outliers, and at zero to remove wrong data\n",
    "(ie you shouldn't be paid to buy something)"
   ]
  },
  {
   "cell_type": "code",
   "execution_count": 13,
   "metadata": {},
   "outputs": [
    {
     "data": {
      "text/plain": [
       "<matplotlib.axes._subplots.AxesSubplot at 0x7fcdd8dcc748>"
      ]
     },
     "execution_count": 13,
     "metadata": {},
     "output_type": "execute_result"
    },
    {
     "data": {
      "image/png": "[encoded data removed]",
      "text/plain": [
       "<Figure size 432x288 with 1 Axes>"
      ]
     },
     "metadata": {
      "needs_background": "light"
     },
     "output_type": "display_data"
    }
   ],
   "source": [
    "df[\"item_price\"] = df[\"item_price\"].clip(\n",
    "    lower=0.0,\n",
    "    upper=df[\"item_price\"].quantile(0.9995))\n",
    "\n",
    "df.boxplot(column=\"item_price\", vert=False)"
   ]
  },
  {
   "cell_type": "markdown",
   "metadata": {},
   "source": [
    "### Data Skew: Item Price\n",
    "We investigate further by plotting the Kernel Density estimate for `item_price`:"
   ]
  },
  {
   "cell_type": "code",
   "execution_count": 14,
   "metadata": {},
   "outputs": [
    {
     "data": {
      "text/plain": [
       "<matplotlib.axes._subplots.AxesSubplot at 0x7fcdd8753748>"
      ]
     },
     "execution_count": 14,
     "metadata": {},
     "output_type": "execute_result"
    },
    {
     "data": {
      "image/png": "[encoded data removed]",
      "text/plain": [
       "<Figure size 432x288 with 1 Axes>"
      ]
     },
     "metadata": {
      "needs_background": "light"
     },
     "output_type": "display_data"
    }
   ],
   "source": [
    "sns.kdeplot(df[\"item_price\"], shade=True)"
   ]
  },
  {
   "cell_type": "markdown",
   "metadata": {},
   "source": [
    "It appears that our data has a log-normally distributed. To address this we apply a log transform:"
   ]
  },
  {
   "cell_type": "code",
   "execution_count": 15,
   "metadata": {},
   "outputs": [
    {
     "data": {
      "text/plain": [
       "<matplotlib.axes._subplots.AxesSubplot at 0x7fcdd86dc7b8>"
      ]
     },
     "execution_count": 15,
     "metadata": {},
     "output_type": "execute_result"
    },
    {
     "data": {
      "image/png": "[encoded data removed]",
      "text/plain": [
       "<Figure size 432x288 with 1 Axes>"
      ]
     },
     "metadata": {
      "needs_background": "light"
     },
     "output_type": "display_data"
    }
   ],
   "source": [
    "sns.kdeplot(np.log1p(df[\"item_price\"]), shade=True)"
   ]
  },
  {
   "cell_type": "code",
   "execution_count": 16,
   "metadata": {},
   "outputs": [],
   "source": [
    "df[\"item_price\"] = np.log1p(df[\"item_price\"])"
   ]
  },
  {
   "cell_type": "markdown",
   "metadata": {},
   "source": [
    "### Different Time Scales\n",
    "`item_cnt_day` is expressed in the day timescale. However, the problem statement requires us to output the `item_cnt_month` which is basicaly `item_cnt_day` aggregated over the month timescale for each shop. Additional, we are tasked to perform predictions on a per shop basis, hence we also need to aggregate by shop\n",
    "- Aggregate by examples grouped by `date_block_num`, `item_id` & `shop_id`\n",
    "    - we use the last `item_price` when aggregating. Since we are predicting on Nov 2015, the last Oct 2015 price are the best estimates."
   ]
  },
  {
   "cell_type": "code",
   "execution_count": 17,
   "metadata": {},
   "outputs": [],
   "source": [
    "groups_cols =  [\"date_block_num\", \"item_id\", \"shop_id\"]\n",
    "df = df.sort_values(by=\"date_block_num\")\n",
    "item_cnt_month_df = df.groupby(groups_cols).agg(\n",
    "    item_price=(\"item_price\", \"last\"),\n",
    "    item_cnt_month=(\"item_cnt_day\", \"sum\")).reset_index()"
   ]
  },
  {
   "cell_type": "markdown",
   "metadata": {},
   "source": [
    "- Merge the aggreated count `item_cnt_month` back into the dataframe:\n",
    "> We use the default merge method with is inner merge. Since the `item_cnt_month_df` \n",
    "> only contains one entry per month, shop, item triple the result `df` also \n",
    "> contains one entry per month, shop, item triple."
   ]
  },
  {
   "cell_type": "code",
   "execution_count": 18,
   "metadata": {},
   "outputs": [],
   "source": [
    "df = pd.merge(df, item_cnt_month_df, how=\"inner\", on=groups_cols + [\"item_price\"])"
   ]
  },
  {
   "cell_type": "markdown",
   "metadata": {},
   "source": [
    "Since the time resolution of the `df` has been reduced monthly interval `item_cnt_day` is no longer a useful feature"
   ]
  },
  {
   "cell_type": "code",
   "execution_count": 19,
   "metadata": {},
   "outputs": [],
   "source": [
    "df = df.drop(columns=\"item_cnt_day\")"
   ]
  },
  {
   "cell_type": "markdown",
   "metadata": {},
   "source": [
    "### Missing Columns in Test Data\n",
    "Some columns in the training set do not exist (with exception of target variable `item_cnt_month` which is our task to predict)"
   ]
  },
  {
   "cell_type": "code",
   "execution_count": 20,
   "metadata": {},
   "outputs": [
    {
     "data": {
      "text/plain": [
       "['date', 'date_block_num', 'item_price', 'item_cnt_month']"
      ]
     },
     "execution_count": 20,
     "metadata": {},
     "output_type": "execute_result"
    }
   ],
   "source": [
    "[ col for col in list(df.columns) if col not in list(test_df.columns) ]"
   ]
  },
  {
   "cell_type": "markdown",
   "metadata": {},
   "source": [
    "We can manually recreate the `date` and `date_block_num` columns as we know that we are supposed to make predictions for Nov 2015:\n",
    "> test.csv - the test set. You need to forecast the sales for these shops and products for November 2015.\n",
    "\n",
    "- this would make the `date_block_num` equal to one plus the last date block number\n",
    "- we use `15/11/2015` (middle of the month) as the date for all test columns"
   ]
  },
  {
   "cell_type": "code",
   "execution_count": 21,
   "metadata": {},
   "outputs": [],
   "source": [
    "test_date = datetime(2015, 11, 15)\n",
    "df = df.sort_values(by=\"date_block_num\")\n",
    "test_date_block_num = df[\"date_block_num\"].max() + 1\n",
    "test_df[\"date\"] = np.full([len(test_df)], fill_value=test_date)\n",
    "test_df[\"date_block_num\"] = np.full([len(test_df)], fill_value=test_date_block_num)"
   ]
  },
  {
   "cell_type": "markdown",
   "metadata": {},
   "source": [
    "Derieve `item_price` from the training dataframe `df`\n",
    "- compile a price list of each item and shop, median price for each item and the median price for all items"
   ]
  },
  {
   "cell_type": "code",
   "execution_count": 22,
   "metadata": {},
   "outputs": [],
   "source": [
    "groups_cols = [\"item_id\", \"shop_id\"]\n",
    "df = df.sort_values(\"date_block_num\")\n",
    "item_price_index = df.groupby(groups_cols).agg(\n",
    "    item_price=(\"item_price\", \"last\"))"
   ]
  },
  {
   "cell_type": "code",
   "execution_count": 23,
   "metadata": {},
   "outputs": [],
   "source": [
    "median_price_index = item_price_index.groupby([\"item_id\"]).agg(\n",
    "    median_price=(\"item_price\", \"median\"))"
   ]
  },
  {
   "cell_type": "code",
   "execution_count": 24,
   "metadata": {},
   "outputs": [],
   "source": [
    "median_price = item_price_index[\"item_price\"].median()"
   ]
  },
  {
   "cell_type": "markdown",
   "metadata": {},
   "source": [
    "- use latest pricing for `item_id` and `shop_id` if exists in training data\n",
    "- use median price for a given item if no price for shop exists\n",
    "- use median price of all items if no price for item exists\n"
   ]
  },
  {
   "cell_type": "code",
   "execution_count": 25,
   "metadata": {},
   "outputs": [],
   "source": [
    "def get_item_price(row, \n",
    "                   item_price_index,\n",
    "                   median_price_index,\n",
    "                   median_price):\n",
    "    item_id, shop_id = row\n",
    "    # check if item price has been recorded before for the store\n",
    "    if (item_id, shop_id) in item_price_index.index:\n",
    "        # return the latest price for the item at the store \n",
    "        return item_price_index[\"item_price\"][item_id, shop_id]\n",
    "    # check if item price has been recorded anywhere for the item\n",
    "    elif item_id in median_price_index.index:\n",
    "        # return median price for item\n",
    "        return median_price_index[\"median_price\"][item_id]\n",
    "    else: # no record of the item price where\n",
    "        # return median price for all items\n",
    "        return median_price"
   ]
  },
  {
   "cell_type": "code",
   "execution_count": 26,
   "metadata": {},
   "outputs": [
    {
     "name": "stdout",
     "output_type": "stream",
     "text": [
      "CPU times: user 13.1 s, sys: 7.68 ms, total: 13.1 s\n",
      "Wall time: 13.1 s\n"
     ]
    }
   ],
   "source": [
    "%%time\n",
    "test_df[\"item_price\"] = test_df[[\"item_id\", \"shop_id\"]].apply(\n",
    "    get_item_price, axis=1,\n",
    "    args=(item_price_index,\n",
    "    median_price_index,\n",
    "    median_price))"
   ]
  },
  {
   "cell_type": "markdown",
   "metadata": {},
   "source": [
    "Hence the missing columns problem is resolved: (`item_cnt_month` is prediction target variable, hence is expected to not be inside the test data)."
   ]
  },
  {
   "cell_type": "code",
   "execution_count": 27,
   "metadata": {},
   "outputs": [
    {
     "data": {
      "text/plain": [
       "['item_cnt_month']"
      ]
     },
     "execution_count": 27,
     "metadata": {},
     "output_type": "execute_result"
    }
   ],
   "source": [
    "[ col for col in list(df.columns) if col not in list(test_df.columns) ]"
   ]
  },
  {
   "cell_type": "markdown",
   "metadata": {},
   "source": [
    "#### Checkpoint Data\n",
    "Checkpoint the the data corrections we have already completed by commiting them to disk."
   ]
  },
  {
   "cell_type": "code",
   "execution_count": 28,
   "metadata": {},
   "outputs": [],
   "source": [
    "if not os.path.exists(\"build\"):\n",
    "    os.makedirs(\"build\")\n",
    "\n",
    "df.reset_index().to_feather(os.path.join(\"build\", \"train_df.feather\"))\n",
    "test_df.reset_index().to_feather(os.path.join(\"build\", \"test_df.feather\"))"
   ]
  },
  {
   "cell_type": "markdown",
   "metadata": {},
   "source": [
    "# Prepare Data\n",
    "Prepare  data transformation pipeline to prepare the data for modeling"
   ]
  },
  {
   "cell_type": "code",
   "execution_count": 29,
   "metadata": {},
   "outputs": [],
   "source": [
    "# Load checkpointed data\n",
    "if os.path.exists(\"build\"):\n",
    "    df = pd.read_feather(os.path.join(\"build\", \"train_df.feather\"))\n",
    "    test_df = pd.read_feather(os.path.join(\"build\", \"test_df.feather\"))"
   ]
  },
  {
   "cell_type": "markdown",
   "metadata": {},
   "source": [
    "### Seperate Inputs & Outputs\n",
    "Seperate the inputs and outputs to the model"
   ]
  },
  {
   "cell_type": "code",
   "execution_count": 30,
   "metadata": {},
   "outputs": [],
   "source": [
    "sales_features_df = df.drop(columns=\"item_cnt_month\")\n",
    "sales_month = df[\"item_cnt_month\"]"
   ]
  },
  {
   "cell_type": "markdown",
   "metadata": {},
   "source": [
    "### Split Test Set\n",
    "We set aside a test set which we will use later to obtain an unbiases estimate \n",
    "of the model's performance"
   ]
  },
  {
   "cell_type": "code",
   "execution_count": 31,
   "metadata": {},
   "outputs": [],
   "source": [
    "(train_sales_features, test_sales_features,\n",
    " train_sales_month, test_sales_month) = train_test_split(sales_features_df, sales_month, test_size=5000)"
   ]
  },
  {
   "cell_type": "markdown",
   "metadata": {},
   "source": [
    "### Build Data Pipeline\n",
    "Build a Data Transformation pipeline which will preprocess data for modeling"
   ]
  },
  {
   "cell_type": "code",
   "execution_count": 32,
   "metadata": {},
   "outputs": [],
   "source": [
    "# pipeline for numeric fatures\n",
    "num_features = [\"item_price\"]\n",
    "num_pipeline = Pipeline([\n",
    "    (\"scaler\", StandardScaler()),\n",
    "])\n",
    "\n",
    "# pipeline for categorical features\n",
    "cat_features = [\"shop_id\", \"item_id\", \"item_category_id\"]\n",
    "cat_pipeline = Pipeline([\n",
    "    (\"encoder\", OneHotEncoder()),\n",
    "])\n",
    "\n",
    "# pipeline for text features\n",
    "text_features = [\"shop_name\", \"item_name\"]\n",
    "# create a text pipeline for each text feature\n",
    "text_pipelines = [ \n",
    "    (f\"text_pipeline_{feat}\",\n",
    "    Pipeline([\n",
    "        (\"vectorizer\", TfidfVectorizer()),\n",
    "    ]), feat) for feat in text_features ]\n",
    "\n",
    "input_pipeline = ColumnTransformer(\n",
    "[\n",
    "    (\"num_pipeline\", num_pipeline, num_features),\n",
    "    (\"cat_pipeline\", cat_pipeline, cat_features),\n",
    "] + text_pipelines, n_jobs=cpu_count() - 2)"
   ]
  },
  {
   "cell_type": "code",
   "execution_count": 33,
   "metadata": {},
   "outputs": [
    {
     "name": "stdout",
     "output_type": "stream",
     "text": [
      "CPU times: user 2.36 s, sys: 1.44 s, total: 3.8 s\n",
      "Wall time: 28.1 s\n"
     ]
    }
   ],
   "source": [
    "%%time\n",
    "input_pipeline.fit(train_sales_features)\n",
    "joblib.dump(input_pipeline, \"input_pipeline.joblib\", compress=3)"
   ]
  },
  {
   "cell_type": "markdown",
   "metadata": {},
   "source": [
    "Use the input pipeline to prepare the data for machine learning"
   ]
  },
  {
   "cell_type": "code",
   "execution_count": 34,
   "metadata": {},
   "outputs": [
    {
     "name": "stdout",
     "output_type": "stream",
     "text": [
      "CPU times: user 2.42 s, sys: 1.04 s, total: 3.46 s\n",
      "Wall time: 28.6 s\n"
     ]
    }
   ],
   "source": [
    "%%time\n",
    "train_sales_features_prepared = input_pipeline.transform(train_sales_features)\n",
    "test_sales_features_prepared = input_pipeline.transform(test_sales_features)"
   ]
  },
  {
   "cell_type": "markdown",
   "metadata": {},
   "source": [
    "# Commit Data\n",
    "Commit the prepared data to disk"
   ]
  },
  {
   "cell_type": "code",
   "execution_count": 35,
   "metadata": {},
   "outputs": [
    {
     "name": "stdout",
     "output_type": "stream",
     "text": [
      "CPU times: user 16.2 s, sys: 104 ms, total: 16.3 s\n",
      "Wall time: 16.3 s\n"
     ]
    }
   ],
   "source": [
    "%%time\n",
    "sparse.save_npz(\"build/train_sales_features.npz\", train_sales_features_prepared)\n",
    "sparse.save_npz(\"build/test_sales_features.npz\", test_sales_features_prepared)\n",
    "np.savez_compressed(\"build/sales_month.npz\", \n",
    "                    train=train_sales_month,\n",
    "                    test=test_sales_month)"
   ]
  }
 ],
 "metadata": {
  "kernelspec": {
   "display_name": "Python 3",
   "language": "python",
   "name": "python3"
  },
  "language_info": {
   "codemirror_mode": {
    "name": "ipython",
    "version": 3
   },
   "file_extension": ".py",
   "mimetype": "text/x-python",
   "name": "python",
   "nbconvert_exporter": "python",
   "pygments_lexer": "ipython3",
   "version": "3.6.9"
  }
 },
 "nbformat": 4,
 "nbformat_minor": 2
}
