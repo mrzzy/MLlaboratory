{
 "cells": [
  {
   "cell_type": "markdown",
   "metadata": {},
   "source": [
    "### Misc: Model Selection\n",
    "Random Forest is almost always worth trying, although other models may be more suitable:\n",
    "- deep learning is more suitable for _unstructured_ data (images, audios, text).\n",
    "- collaborative filtering more suitable for reconmender systems"
   ]
  },
  {
   "cell_type": "markdown",
   "metadata": {},
   "source": [
    "# Grocery Problem: reconstructing a large dataset\n",
    "\n",
    "The dataset, being very large is also split into multiple csv files, which makes it a challenge to load."
   ]
  },
  {
   "cell_type": "markdown",
   "metadata": {},
   "source": [
    "##### Understanding the dataset\n",
    "The dataset is a relational dataset:\n",
    "contains independent variables (features) that map to the dependent variable (prediction target).\n",
    "This is time series data, hence special care should be taken when processing and maintaining the order of time."
   ]
  },
  {
   "cell_type": "markdown",
   "metadata": {},
   "source": [
    "## Imports and setup environment"
   ]
  },
  {
   "cell_type": "code",
   "execution_count": 1,
   "metadata": {},
   "outputs": [],
   "source": [
    "%load_ext autoreload\n",
    "%autoreload\n",
    "\n",
    "%matplotlib inline"
   ]
  },
  {
   "cell_type": "code",
   "execution_count": 2,
   "metadata": {},
   "outputs": [],
   "source": [
    "import numpy as np\n",
    "import matplotlib as plt\n",
    "\n",
    "from fastai.imports import *\n",
    "from fastai.structured import *\n",
    "\n",
    "from sklearn.ensemble import RandomForestRegressor, RandomForestClassifier\n",
    "from IPython.display import display\n",
    "\n",
    "from sklearn import metrics\n",
    "from sklearn.impute import SimpleImputer\n",
    "\n",
    "import subprocess\n",
    "import os\n",
    "import gc"
   ]
  },
  {
   "cell_type": "code",
   "execution_count": 3,
   "metadata": {},
   "outputs": [
    {
     "name": "stdout",
     "output_type": "stream",
     "text": [
      "holidays_events.csv  sample_submission.csv  text.txt\t      transactions.csv\r\n",
      "items.csv\t     stores.csv\t\t    train.csv\r\n",
      "oil.csv\t\t     test.csv\t\t    train_sample.csv\r\n"
     ]
    }
   ],
   "source": [
    "PATH = \"data/groceries/\"\n",
    "!ls {PATH}"
   ]
  },
  {
   "cell_type": "markdown",
   "metadata": {},
   "source": [
    "## Read Data\n",
    "reading a large requires some tweaking to make work\n",
    "\n",
    "##### Sampling the data\n",
    "To determine the datatypes to use when processing the dataset ,we can sample the data using the unix command `shuf`.\n",
    "\n",
    "```sh\n",
    "head -n 1 {PATH}train.csv >{PATH}train_sample.csv\n",
    "shuf {PATH}train.csv -n {sample_size}>>{PATH}train_sample.csv\n",
    "```\n",
    "\n",
    "> Typically, we do as much as we on a management sample before loading the full massive dataset"
   ]
  },
  {
   "cell_type": "code",
   "execution_count": 4,
   "metadata": {},
   "outputs": [
    {
     "name": "stdout",
     "output_type": "stream",
     "text": [
      "Sampling training set to 125497041 examples\n"
     ]
    }
   ],
   "source": [
    "# compute the number of lines to read based on sample fraction\n",
    "SAMPLE_FRAC = 1.0 # set to 0.1 to sample 10%. In this case we are using all data\n",
    "n_train = sum(1 for line in open(f\"{PATH}train.csv\"))\n",
    "sample_size = int(SAMPLE_FRAC * int(n_train))\n",
    "\n",
    "print(f\"Sampling training set to {sample_size} examples\")"
   ]
  },
  {
   "cell_type": "markdown",
   "metadata": {},
   "source": [
    "We add a function to read the csv in chunks to give progress infomation"
   ]
  },
  {
   "cell_type": "code",
   "execution_count": 5,
   "metadata": {},
   "outputs": [],
   "source": [
    "# read the csv at the given path using pandas into a dataframe\n",
    "# read the csv with chunks of the given size n_chunk\n",
    "# progress infomation is printed if progress is specified as true\n",
    "# bar size controls the size of the progress bar\n",
    "# use the given datatypes for each column dtypes if given\n",
    "# Parses dates for the given columns in parse dates\n",
    "def read_csv(path, n_chunk=128, progress=True, bar_size=60, dtypes=None, parse_dates=False):\n",
    "    # find number of lines\n",
    "    n_lines = sum([1 for l in open(path)])\n",
    "    \n",
    "    # read df chunks\n",
    "    df_chunks = []\n",
    "    n_read = 0\n",
    "    for df_chunk in pd.read_csv(path, chunksize=n_chunk, dtype=dtypes, parse_dates=parse_dates):\n",
    "        df_chunks.append(df_chunk)\n",
    "        n_read += len(df_chunk)\n",
    "        \n",
    "        # display progress infomation\n",
    "        if progress:\n",
    "            completion_ratio = n_read / n_lines\n",
    "            print(\"#\" * int(completion_ratio * bar_size), \n",
    "                  \" \" * int((1-completion_ratio) * bar_size), \" \", \n",
    "                  \"{0:.2f}%\".format(completion_ratio * 100.0))\n",
    "    \n",
    "    # recombine chunks into full dataframe\n",
    "    df = pd.concat(df_chunks)\n",
    "    return df\n",
    "    "
   ]
  },
  {
   "cell_type": "markdown",
   "metadata": {},
   "source": [
    "##### Data types optimisation\n",
    "To reduce memory consumption and ensure we don't run out of memory, we use the smallest possible data type for each coloumn (that still fits all the values).\n",
    "\n",
    "> Using a small datatype also allows you to leverage SIMD instructions and obtain some performance gains"
   ]
  },
  {
   "cell_type": "code",
   "execution_count": 6,
   "metadata": {
    "scrolled": true
   },
   "outputs": [
    {
     "name": "stdout",
     "output_type": "stream",
     "text": [
      "Reading training data...\n",
      "                                                               1.00%\n",
      "#                                                              2.00%\n",
      "#                                                              3.00%\n",
      "##                                                             4.00%\n",
      "##                                                             5.00%\n",
      "###                                                            6.00%\n",
      "####                                                           7.00%\n",
      "####                                                           8.00%\n",
      "#####                                                          9.00%\n",
      "#####                                                          10.00%\n",
      "######                                                         11.00%\n",
      "#######                                                        12.00%\n",
      "#######                                                        13.00%\n",
      "########                                                       14.00%\n",
      "########                                                       15.00%\n",
      "#########                                                      16.00%\n",
      "##########                                                     17.00%\n",
      "##########                                                     18.00%\n",
      "###########                                                    19.00%\n",
      "###########                                                    20.00%\n",
      "############                                                   21.00%\n",
      "#############                                                  22.00%\n",
      "#############                                                  23.00%\n",
      "##############                                                 24.00%\n",
      "##############                                                 25.00%\n",
      "###############                                                26.00%\n",
      "################                                               27.00%\n",
      "################                                               28.00%\n",
      "#################                                              29.00%\n",
      "#################                                              30.00%\n",
      "##################                                             31.00%\n",
      "###################                                            32.00%\n",
      "###################                                            33.00%\n",
      "####################                                           34.00%\n",
      "####################                                           35.00%\n",
      "#####################                                          36.00%\n",
      "######################                                         37.00%\n",
      "######################                                         38.00%\n",
      "#######################                                        39.00%\n",
      "#######################                                        40.00%\n",
      "########################                                       41.00%\n",
      "#########################                                      42.00%\n",
      "#########################                                      43.00%\n",
      "##########################                                     44.00%\n",
      "##########################                                     45.00%\n",
      "###########################                                    46.00%\n",
      "############################                                   47.00%\n",
      "############################                                   48.00%\n",
      "#############################                                  49.00%\n",
      "#############################                                  50.00%\n",
      "##############################                                 51.00%\n",
      "###############################                                52.00%\n",
      "###############################                                53.00%\n",
      "################################                               54.00%\n",
      "################################                               55.00%\n",
      "#################################                              56.00%\n",
      "##################################                             57.00%\n",
      "##################################                             58.00%\n",
      "###################################                            59.00%\n",
      "###################################                            60.00%\n",
      "####################################                           61.00%\n",
      "#####################################                          62.00%\n",
      "#####################################                          63.00%\n",
      "######################################                         64.00%\n",
      "######################################                         65.00%\n",
      "#######################################                        66.00%\n",
      "########################################                       67.00%\n",
      "########################################                       68.00%\n",
      "#########################################                      69.00%\n",
      "#########################################                      70.00%\n",
      "##########################################                     71.00%\n",
      "###########################################                    72.00%\n",
      "###########################################                    73.00%\n",
      "############################################                   74.00%\n",
      "############################################                   75.00%\n",
      "#############################################                  76.00%\n",
      "##############################################                 77.00%\n",
      "##############################################                 78.00%\n",
      "###############################################                79.00%\n",
      "###############################################                80.00%\n",
      "################################################               81.00%\n",
      "#################################################              82.00%\n",
      "#################################################              83.00%\n",
      "##################################################             84.00%\n",
      "##################################################             85.00%\n",
      "###################################################            86.00%\n",
      "####################################################           87.00%\n",
      "####################################################           88.00%\n",
      "#####################################################          89.00%\n",
      "#####################################################          90.00%\n",
      "######################################################         91.00%\n",
      "#######################################################        92.00%\n",
      "#######################################################        93.00%\n",
      "########################################################       94.00%\n",
      "########################################################       95.00%\n",
      "#########################################################      96.00%\n",
      "##########################################################     97.00%\n",
      "##########################################################     98.00%\n",
      "###########################################################    99.00%\n",
      "###########################################################    100.00%\n",
      "###########################################################    100.00%\n",
      "Reading test data...\n",
      "#                                                              1.94%\n",
      "##                                                             3.89%\n",
      "###                                                            5.83%\n",
      "####                                                           7.78%\n",
      "#####                                                          9.72%\n",
      "######                                                         11.67%\n",
      "########                                                       13.61%\n",
      "#########                                                      15.56%\n",
      "##########                                                     17.50%\n",
      "###########                                                    19.44%\n",
      "############                                                   21.39%\n",
      "#############                                                  23.33%\n",
      "###############                                                25.28%\n",
      "################                                               27.22%\n",
      "#################                                              29.17%\n",
      "##################                                             31.11%\n"
     ]
    },
    {
     "name": "stdout",
     "output_type": "stream",
     "text": [
      "###################                                            33.06%\n",
      "####################                                           35.00%\n",
      "######################                                         36.94%\n",
      "#######################                                        38.89%\n",
      "########################                                       40.83%\n",
      "#########################                                      42.78%\n",
      "##########################                                     44.72%\n",
      "###########################                                    46.67%\n",
      "#############################                                  48.61%\n",
      "##############################                                 50.55%\n",
      "###############################                                52.50%\n",
      "################################                               54.44%\n",
      "#################################                              56.39%\n",
      "##################################                             58.33%\n",
      "####################################                           60.28%\n",
      "#####################################                          62.22%\n",
      "######################################                         64.17%\n",
      "#######################################                        66.11%\n",
      "########################################                       68.05%\n",
      "#########################################                      70.00%\n",
      "###########################################                    71.94%\n",
      "############################################                   73.89%\n",
      "#############################################                  75.83%\n",
      "##############################################                 77.78%\n",
      "###############################################                79.72%\n",
      "################################################               81.67%\n",
      "##################################################             83.61%\n",
      "###################################################            85.55%\n",
      "####################################################           87.50%\n",
      "#####################################################          89.44%\n",
      "######################################################         91.39%\n",
      "#######################################################        93.33%\n",
      "#########################################################      95.28%\n",
      "##########################################################     97.22%\n",
      "###########################################################    99.17%\n",
      "###########################################################    100.00%\n"
     ]
    }
   ],
   "source": [
    "# use the smallest possible data type for each colomn \n",
    "\n",
    "df_dtypes = {\n",
    "    \"id\": \"int64\",\n",
    "    \"item_nbr\":\"int32\",\n",
    "    \"store_nbr\": \"int8\",\n",
    "    \"unit_sales\":\"float32\",\n",
    "    \"onpromotion\": \"object\"\n",
    "}\n",
    "\n",
    "\n",
    "CHUNK_FRAC = 1 / 100\n",
    "\n",
    "# Actually read the data:\n",
    "print(\"Reading training data...\")\n",
    "df_train = read_csv(f\"{PATH}train.csv\", \n",
    "                    n_chunk=int(sample_size * CHUNK_FRAC), \n",
    "                    dtypes=df_dtypes,\n",
    "                    parse_dates=[\"date\"])\n",
    "\n",
    "print(\"Reading test data...\")\n",
    "df_test = read_csv(f\"{PATH}test.csv\", n_chunk=int(65536), dtypes=df_dtypes,parse_dates=[\"date\"])"
   ]
  },
  {
   "cell_type": "code",
   "execution_count": 7,
   "metadata": {
    "scrolled": true
   },
   "outputs": [
    {
     "name": "stdout",
     "output_type": "stream",
     "text": [
      "Training set: 125497040 examples\n",
      "Test set: 3370464 examples\n"
     ]
    }
   ],
   "source": [
    "print(f\"Training set: {len(df_train)} examples\")\n",
    "print(f\"Test set: {len(df_test)} examples\")"
   ]
  },
  {
   "cell_type": "markdown",
   "metadata": {},
   "source": [
    "##### Read the additional metadata provided"
   ]
  },
  {
   "cell_type": "code",
   "execution_count": 8,
   "metadata": {},
   "outputs": [],
   "source": [
    "# Holidays and events meta data\n",
    "events_dtypes = {\n",
    "    \"type\": \"category\",\n",
    "    \"locale\": \"category\",\n",
    "    \"locale_name\": \"object\",\n",
    "    \"description\": \"object\",\n",
    "    \"transferred\": \"bool\"\n",
    "}\n",
    "    \n",
    "df_events = pd.read_csv(f\"{PATH}holidays_events.csv\", dtype=events_dtypes,\n",
    "                        parse_dates=[\"date\"])\n",
    "\n",
    "# Oil prices\n",
    "df_oil = pd.read_csv(f\"{PATH}oil.csv\", dtype={\"dcoilwtico\": \"float32\"},\n",
    "                    parse_dates=[\"date\"])\n",
    "\n",
    "# Store information\n",
    "stores_dtypes = {\n",
    "    \"store_nbr\": \"int32\",\n",
    "    \"city\": \"category\",\n",
    "    \"state\": \"category\",\n",
    "    \"type\": \"category\",\n",
    "    \"cluster\": \"int8\"\n",
    "}\n",
    "\n",
    "df_stores = pd.read_csv(f\"{PATH}stores.csv\", dtype=stores_dtypes)\n",
    "\n",
    "# Items Provided\n",
    "items_dtypes = {\n",
    "    \"item_nbr\": \"int32\",\n",
    "    \"family\": \"category\",\n",
    "    \"class\": \"int16\",\n",
    "    \"perishable\": \"int8\"\n",
    "}\n",
    "df_items = pd.read_csv(f\"{PATH}items.csv\", dtype=items_dtypes)"
   ]
  },
  {
   "cell_type": "markdown",
   "metadata": {},
   "source": [
    "## Explore dataset\n",
    "Explore the using pandas\n",
    "\n",
    "This is a relational dataset that maps from input features to target output feature `unit_sales`.\n",
    "\n",
    "##### Training set\n",
    "Lets take a look at the training set"
   ]
  },
  {
   "cell_type": "code",
   "execution_count": 9,
   "metadata": {
    "scrolled": true
   },
   "outputs": [
    {
     "name": "stdout",
     "output_type": "stream",
     "text": [
      "Training set:\n",
      "CPU times: user 4.97 s, sys: 392 ms, total: 5.37 s\n",
      "Wall time: 5.36 s\n"
     ]
    },
    {
     "data": {
      "text/html": [
       "<div>\n",
       "<style scoped>\n",
       "    .dataframe tbody tr th:only-of-type {\n",
       "        vertical-align: middle;\n",
       "    }\n",
       "\n",
       "    .dataframe tbody tr th {\n",
       "        vertical-align: top;\n",
       "    }\n",
       "\n",
       "    .dataframe thead th {\n",
       "        text-align: right;\n",
       "    }\n",
       "</style>\n",
       "<table border=\"1\" class=\"dataframe\">\n",
       "  <thead>\n",
       "    <tr style=\"text-align: right;\">\n",
       "      <th></th>\n",
       "      <th>id</th>\n",
       "      <th>date</th>\n",
       "      <th>store_nbr</th>\n",
       "      <th>item_nbr</th>\n",
       "      <th>unit_sales</th>\n",
       "      <th>onpromotion</th>\n",
       "    </tr>\n",
       "  </thead>\n",
       "  <tbody>\n",
       "    <tr>\n",
       "      <th>count</th>\n",
       "      <td>1.000000e+05</td>\n",
       "      <td>100000</td>\n",
       "      <td>100000.000000</td>\n",
       "      <td>1.000000e+05</td>\n",
       "      <td>100000.000000</td>\n",
       "      <td>82718</td>\n",
       "    </tr>\n",
       "    <tr>\n",
       "      <th>unique</th>\n",
       "      <td>NaN</td>\n",
       "      <td>1682</td>\n",
       "      <td>NaN</td>\n",
       "      <td>NaN</td>\n",
       "      <td>NaN</td>\n",
       "      <td>2</td>\n",
       "    </tr>\n",
       "    <tr>\n",
       "      <th>top</th>\n",
       "      <td>NaN</td>\n",
       "      <td>2017-05-13 00:00:00</td>\n",
       "      <td>NaN</td>\n",
       "      <td>NaN</td>\n",
       "      <td>NaN</td>\n",
       "      <td>False</td>\n",
       "    </tr>\n",
       "    <tr>\n",
       "      <th>freq</th>\n",
       "      <td>NaN</td>\n",
       "      <td>114</td>\n",
       "      <td>NaN</td>\n",
       "      <td>NaN</td>\n",
       "      <td>NaN</td>\n",
       "      <td>76327</td>\n",
       "    </tr>\n",
       "    <tr>\n",
       "      <th>first</th>\n",
       "      <td>NaN</td>\n",
       "      <td>2013-01-01 00:00:00</td>\n",
       "      <td>NaN</td>\n",
       "      <td>NaN</td>\n",
       "      <td>NaN</td>\n",
       "      <td>NaN</td>\n",
       "    </tr>\n",
       "    <tr>\n",
       "      <th>last</th>\n",
       "      <td>NaN</td>\n",
       "      <td>2017-08-15 00:00:00</td>\n",
       "      <td>NaN</td>\n",
       "      <td>NaN</td>\n",
       "      <td>NaN</td>\n",
       "      <td>NaN</td>\n",
       "    </tr>\n",
       "    <tr>\n",
       "      <th>mean</th>\n",
       "      <td>6.267804e+07</td>\n",
       "      <td>NaN</td>\n",
       "      <td>27.468820</td>\n",
       "      <td>9.744394e+05</td>\n",
       "      <td>8.522415</td>\n",
       "      <td>NaN</td>\n",
       "    </tr>\n",
       "    <tr>\n",
       "      <th>std</th>\n",
       "      <td>3.621321e+07</td>\n",
       "      <td>NaN</td>\n",
       "      <td>16.299293</td>\n",
       "      <td>5.217100e+05</td>\n",
       "      <td>19.473991</td>\n",
       "      <td>NaN</td>\n",
       "    </tr>\n",
       "    <tr>\n",
       "      <th>min</th>\n",
       "      <td>4.560000e+02</td>\n",
       "      <td>NaN</td>\n",
       "      <td>1.000000</td>\n",
       "      <td>9.699500e+04</td>\n",
       "      <td>-2.000000</td>\n",
       "      <td>NaN</td>\n",
       "    </tr>\n",
       "    <tr>\n",
       "      <th>25%</th>\n",
       "      <td>3.131312e+07</td>\n",
       "      <td>NaN</td>\n",
       "      <td>12.000000</td>\n",
       "      <td>5.223830e+05</td>\n",
       "      <td>2.000000</td>\n",
       "      <td>NaN</td>\n",
       "    </tr>\n",
       "    <tr>\n",
       "      <th>50%</th>\n",
       "      <td>6.262071e+07</td>\n",
       "      <td>NaN</td>\n",
       "      <td>28.000000</td>\n",
       "      <td>9.626000e+05</td>\n",
       "      <td>4.000000</td>\n",
       "      <td>NaN</td>\n",
       "    </tr>\n",
       "    <tr>\n",
       "      <th>75%</th>\n",
       "      <td>9.401412e+07</td>\n",
       "      <td>NaN</td>\n",
       "      <td>43.000000</td>\n",
       "      <td>1.354385e+06</td>\n",
       "      <td>9.000000</td>\n",
       "      <td>NaN</td>\n",
       "    </tr>\n",
       "    <tr>\n",
       "      <th>max</th>\n",
       "      <td>1.254968e+08</td>\n",
       "      <td>NaN</td>\n",
       "      <td>54.000000</td>\n",
       "      <td>2.121690e+06</td>\n",
       "      <td>2248.000000</td>\n",
       "      <td>NaN</td>\n",
       "    </tr>\n",
       "  </tbody>\n",
       "</table>\n",
       "</div>"
      ],
      "text/plain": [
       "                  id                 date      store_nbr      item_nbr  \\\n",
       "count   1.000000e+05               100000  100000.000000  1.000000e+05   \n",
       "unique           NaN                 1682            NaN           NaN   \n",
       "top              NaN  2017-05-13 00:00:00            NaN           NaN   \n",
       "freq             NaN                  114            NaN           NaN   \n",
       "first            NaN  2013-01-01 00:00:00            NaN           NaN   \n",
       "last             NaN  2017-08-15 00:00:00            NaN           NaN   \n",
       "mean    6.267804e+07                  NaN      27.468820  9.744394e+05   \n",
       "std     3.621321e+07                  NaN      16.299293  5.217100e+05   \n",
       "min     4.560000e+02                  NaN       1.000000  9.699500e+04   \n",
       "25%     3.131312e+07                  NaN      12.000000  5.223830e+05   \n",
       "50%     6.262071e+07                  NaN      28.000000  9.626000e+05   \n",
       "75%     9.401412e+07                  NaN      43.000000  1.354385e+06   \n",
       "max     1.254968e+08                  NaN      54.000000  2.121690e+06   \n",
       "\n",
       "           unit_sales onpromotion  \n",
       "count   100000.000000       82718  \n",
       "unique            NaN           2  \n",
       "top               NaN       False  \n",
       "freq              NaN       76327  \n",
       "first             NaN         NaN  \n",
       "last              NaN         NaN  \n",
       "mean         8.522415         NaN  \n",
       "std         19.473991         NaN  \n",
       "min         -2.000000         NaN  \n",
       "25%          2.000000         NaN  \n",
       "50%          4.000000         NaN  \n",
       "75%          9.000000         NaN  \n",
       "max       2248.000000         NaN  "
      ]
     },
     "execution_count": 9,
     "metadata": {},
     "output_type": "execute_result"
    }
   ],
   "source": [
    "print(\"Training set:\")\n",
    "%time df_train.sample(int(1e+5)).describe(include=\"all\")"
   ]
  },
  {
   "cell_type": "markdown",
   "metadata": {},
   "source": [
    "The training has date time stamp, foreign keys that reference other dataframes (`store_nbr`, `item_nbr`), whether the item is on promotion. Finally it includes the prediction target (dependent variable) `unit_sales`"
   ]
  },
  {
   "cell_type": "markdown",
   "metadata": {},
   "source": [
    "##### Test Set\n",
    "Lets take a look at the test set"
   ]
  },
  {
   "cell_type": "code",
   "execution_count": 10,
   "metadata": {},
   "outputs": [
    {
     "name": "stdout",
     "output_type": "stream",
     "text": [
      "Test set:\n",
      "CPU times: user 164 ms, sys: 169 µs, total: 164 ms\n",
      "Wall time: 162 ms\n"
     ]
    },
    {
     "data": {
      "text/html": [
       "<div>\n",
       "<style scoped>\n",
       "    .dataframe tbody tr th:only-of-type {\n",
       "        vertical-align: middle;\n",
       "    }\n",
       "\n",
       "    .dataframe tbody tr th {\n",
       "        vertical-align: top;\n",
       "    }\n",
       "\n",
       "    .dataframe thead th {\n",
       "        text-align: right;\n",
       "    }\n",
       "</style>\n",
       "<table border=\"1\" class=\"dataframe\">\n",
       "  <thead>\n",
       "    <tr style=\"text-align: right;\">\n",
       "      <th></th>\n",
       "      <th>id</th>\n",
       "      <th>date</th>\n",
       "      <th>store_nbr</th>\n",
       "      <th>item_nbr</th>\n",
       "      <th>onpromotion</th>\n",
       "    </tr>\n",
       "  </thead>\n",
       "  <tbody>\n",
       "    <tr>\n",
       "      <th>count</th>\n",
       "      <td>1.000000e+05</td>\n",
       "      <td>100000</td>\n",
       "      <td>100000.00000</td>\n",
       "      <td>1.000000e+05</td>\n",
       "      <td>100000</td>\n",
       "    </tr>\n",
       "    <tr>\n",
       "      <th>unique</th>\n",
       "      <td>NaN</td>\n",
       "      <td>16</td>\n",
       "      <td>NaN</td>\n",
       "      <td>NaN</td>\n",
       "      <td>2</td>\n",
       "    </tr>\n",
       "    <tr>\n",
       "      <th>top</th>\n",
       "      <td>NaN</td>\n",
       "      <td>2017-08-17 00:00:00</td>\n",
       "      <td>NaN</td>\n",
       "      <td>NaN</td>\n",
       "      <td>False</td>\n",
       "    </tr>\n",
       "    <tr>\n",
       "      <th>freq</th>\n",
       "      <td>NaN</td>\n",
       "      <td>6396</td>\n",
       "      <td>NaN</td>\n",
       "      <td>NaN</td>\n",
       "      <td>94215</td>\n",
       "    </tr>\n",
       "    <tr>\n",
       "      <th>first</th>\n",
       "      <td>NaN</td>\n",
       "      <td>2017-08-16 00:00:00</td>\n",
       "      <td>NaN</td>\n",
       "      <td>NaN</td>\n",
       "      <td>NaN</td>\n",
       "    </tr>\n",
       "    <tr>\n",
       "      <th>last</th>\n",
       "      <td>NaN</td>\n",
       "      <td>2017-08-31 00:00:00</td>\n",
       "      <td>NaN</td>\n",
       "      <td>NaN</td>\n",
       "      <td>NaN</td>\n",
       "    </tr>\n",
       "    <tr>\n",
       "      <th>mean</th>\n",
       "      <td>1.271785e+08</td>\n",
       "      <td>NaN</td>\n",
       "      <td>27.50641</td>\n",
       "      <td>1.246962e+06</td>\n",
       "      <td>NaN</td>\n",
       "    </tr>\n",
       "    <tr>\n",
       "      <th>std</th>\n",
       "      <td>9.733288e+05</td>\n",
       "      <td>NaN</td>\n",
       "      <td>15.56238</td>\n",
       "      <td>5.906799e+05</td>\n",
       "      <td>NaN</td>\n",
       "    </tr>\n",
       "    <tr>\n",
       "      <th>min</th>\n",
       "      <td>1.254971e+08</td>\n",
       "      <td>NaN</td>\n",
       "      <td>1.00000</td>\n",
       "      <td>9.699500e+04</td>\n",
       "      <td>NaN</td>\n",
       "    </tr>\n",
       "    <tr>\n",
       "      <th>25%</th>\n",
       "      <td>1.263348e+08</td>\n",
       "      <td>NaN</td>\n",
       "      <td>14.00000</td>\n",
       "      <td>8.098820e+05</td>\n",
       "      <td>NaN</td>\n",
       "    </tr>\n",
       "    <tr>\n",
       "      <th>50%</th>\n",
       "      <td>1.271789e+08</td>\n",
       "      <td>NaN</td>\n",
       "      <td>28.00000</td>\n",
       "      <td>1.304488e+06</td>\n",
       "      <td>NaN</td>\n",
       "    </tr>\n",
       "    <tr>\n",
       "      <th>75%</th>\n",
       "      <td>1.280182e+08</td>\n",
       "      <td>NaN</td>\n",
       "      <td>41.00000</td>\n",
       "      <td>1.903391e+06</td>\n",
       "      <td>NaN</td>\n",
       "    </tr>\n",
       "    <tr>\n",
       "      <th>max</th>\n",
       "      <td>1.288675e+08</td>\n",
       "      <td>NaN</td>\n",
       "      <td>54.00000</td>\n",
       "      <td>2.134244e+06</td>\n",
       "      <td>NaN</td>\n",
       "    </tr>\n",
       "  </tbody>\n",
       "</table>\n",
       "</div>"
      ],
      "text/plain": [
       "                  id                 date     store_nbr      item_nbr  \\\n",
       "count   1.000000e+05               100000  100000.00000  1.000000e+05   \n",
       "unique           NaN                   16           NaN           NaN   \n",
       "top              NaN  2017-08-17 00:00:00           NaN           NaN   \n",
       "freq             NaN                 6396           NaN           NaN   \n",
       "first            NaN  2017-08-16 00:00:00           NaN           NaN   \n",
       "last             NaN  2017-08-31 00:00:00           NaN           NaN   \n",
       "mean    1.271785e+08                  NaN      27.50641  1.246962e+06   \n",
       "std     9.733288e+05                  NaN      15.56238  5.906799e+05   \n",
       "min     1.254971e+08                  NaN       1.00000  9.699500e+04   \n",
       "25%     1.263348e+08                  NaN      14.00000  8.098820e+05   \n",
       "50%     1.271789e+08                  NaN      28.00000  1.304488e+06   \n",
       "75%     1.280182e+08                  NaN      41.00000  1.903391e+06   \n",
       "max     1.288675e+08                  NaN      54.00000  2.134244e+06   \n",
       "\n",
       "       onpromotion  \n",
       "count       100000  \n",
       "unique           2  \n",
       "top          False  \n",
       "freq         94215  \n",
       "first          NaN  \n",
       "last           NaN  \n",
       "mean           NaN  \n",
       "std            NaN  \n",
       "min            NaN  \n",
       "25%            NaN  \n",
       "50%            NaN  \n",
       "75%            NaN  \n",
       "max            NaN  "
      ]
     },
     "execution_count": 10,
     "metadata": {},
     "output_type": "execute_result"
    }
   ],
   "source": [
    "print(\"Test set:\")\n",
    "%time df_test.sample(int(1e+5)).describe(include=\"all\")"
   ]
  },
  {
   "cell_type": "markdown",
   "metadata": {},
   "source": [
    "###### Detect if there missing data data (NAN)"
   ]
  },
  {
   "cell_type": "code",
   "execution_count": 11,
   "metadata": {},
   "outputs": [
    {
     "name": "stdout",
     "output_type": "stream",
     "text": [
      "Training Contains Nan: id             False\n",
      "date           False\n",
      "store_nbr      False\n",
      "item_nbr       False\n",
      "unit_sales     False\n",
      "onpromotion     True\n",
      "dtype: bool\n",
      "Test contains Nan: id             False\n",
      "date           False\n",
      "store_nbr      False\n",
      "item_nbr       False\n",
      "onpromotion    False\n",
      "dtype: bool\n"
     ]
    }
   ],
   "source": [
    "print(\"Training Contains Nan:\", df_train.isna().any())\n",
    "print(\"Test contains Nan:\", df_test.isna().any())"
   ]
  },
  {
   "cell_type": "markdown",
   "metadata": {},
   "source": [
    "Look like the `onpromotion` includes NANs:"
   ]
  },
  {
   "cell_type": "code",
   "execution_count": 12,
   "metadata": {},
   "outputs": [
    {
     "name": "stdout",
     "output_type": "stream",
     "text": [
      "1.00% of the training onpromotion is Nan:\n"
     ]
    }
   ],
   "source": [
    "nan_percent = len(df_train.onpromotion.isna()) / len(df_train)\n",
    "print(\"{:.2f}% of the training onpromotion is Nan:\".format(nan_percent))"
   ]
  },
  {
   "cell_type": "markdown",
   "metadata": {},
   "source": [
    "#### Other metadata dataframes"
   ]
  },
  {
   "cell_type": "markdown",
   "metadata": {},
   "source": [
    "- The holiday and yearly events dataframe"
   ]
  },
  {
   "cell_type": "code",
   "execution_count": 13,
   "metadata": {},
   "outputs": [
    {
     "data": {
      "text/html": [
       "<div>\n",
       "<style scoped>\n",
       "    .dataframe tbody tr th:only-of-type {\n",
       "        vertical-align: middle;\n",
       "    }\n",
       "\n",
       "    .dataframe tbody tr th {\n",
       "        vertical-align: top;\n",
       "    }\n",
       "\n",
       "    .dataframe thead th {\n",
       "        text-align: right;\n",
       "    }\n",
       "</style>\n",
       "<table border=\"1\" class=\"dataframe\">\n",
       "  <thead>\n",
       "    <tr style=\"text-align: right;\">\n",
       "      <th></th>\n",
       "      <th>date</th>\n",
       "      <th>type</th>\n",
       "      <th>locale</th>\n",
       "      <th>locale_name</th>\n",
       "      <th>description</th>\n",
       "      <th>transferred</th>\n",
       "    </tr>\n",
       "  </thead>\n",
       "  <tbody>\n",
       "    <tr>\n",
       "      <th>count</th>\n",
       "      <td>350</td>\n",
       "      <td>350</td>\n",
       "      <td>350</td>\n",
       "      <td>350</td>\n",
       "      <td>350</td>\n",
       "      <td>350</td>\n",
       "    </tr>\n",
       "    <tr>\n",
       "      <th>unique</th>\n",
       "      <td>312</td>\n",
       "      <td>6</td>\n",
       "      <td>3</td>\n",
       "      <td>24</td>\n",
       "      <td>103</td>\n",
       "      <td>2</td>\n",
       "    </tr>\n",
       "    <tr>\n",
       "      <th>top</th>\n",
       "      <td>2014-06-25 00:00:00</td>\n",
       "      <td>Holiday</td>\n",
       "      <td>National</td>\n",
       "      <td>Ecuador</td>\n",
       "      <td>Carnaval</td>\n",
       "      <td>False</td>\n",
       "    </tr>\n",
       "    <tr>\n",
       "      <th>freq</th>\n",
       "      <td>4</td>\n",
       "      <td>221</td>\n",
       "      <td>174</td>\n",
       "      <td>174</td>\n",
       "      <td>10</td>\n",
       "      <td>338</td>\n",
       "    </tr>\n",
       "    <tr>\n",
       "      <th>first</th>\n",
       "      <td>2012-03-02 00:00:00</td>\n",
       "      <td>NaN</td>\n",
       "      <td>NaN</td>\n",
       "      <td>NaN</td>\n",
       "      <td>NaN</td>\n",
       "      <td>NaN</td>\n",
       "    </tr>\n",
       "    <tr>\n",
       "      <th>last</th>\n",
       "      <td>2017-12-26 00:00:00</td>\n",
       "      <td>NaN</td>\n",
       "      <td>NaN</td>\n",
       "      <td>NaN</td>\n",
       "      <td>NaN</td>\n",
       "      <td>NaN</td>\n",
       "    </tr>\n",
       "  </tbody>\n",
       "</table>\n",
       "</div>"
      ],
      "text/plain": [
       "                       date     type    locale locale_name description  \\\n",
       "count                   350      350       350         350         350   \n",
       "unique                  312        6         3          24         103   \n",
       "top     2014-06-25 00:00:00  Holiday  National     Ecuador    Carnaval   \n",
       "freq                      4      221       174         174          10   \n",
       "first   2012-03-02 00:00:00      NaN       NaN         NaN         NaN   \n",
       "last    2017-12-26 00:00:00      NaN       NaN         NaN         NaN   \n",
       "\n",
       "       transferred  \n",
       "count          350  \n",
       "unique           2  \n",
       "top          False  \n",
       "freq           338  \n",
       "first          NaN  \n",
       "last           NaN  "
      ]
     },
     "execution_count": 13,
     "metadata": {},
     "output_type": "execute_result"
    }
   ],
   "source": [
    "df_events.describe(include=\"all\")"
   ]
  },
  {
   "cell_type": "markdown",
   "metadata": {},
   "source": [
    "`df_events` appear to contain time series events data that we are able to add to our by merging by nearest date timestamp\n",
    "\n",
    "Check for Nans:"
   ]
  },
  {
   "cell_type": "code",
   "execution_count": 14,
   "metadata": {},
   "outputs": [
    {
     "name": "stdout",
     "output_type": "stream",
     "text": [
      "date           False\n",
      "type           False\n",
      "locale         False\n",
      "locale_name    False\n",
      "description    False\n",
      "transferred    False\n",
      "dtype: bool\n"
     ]
    }
   ],
   "source": [
    "print(df_events.isna().any())"
   ]
  },
  {
   "cell_type": "markdown",
   "metadata": {},
   "source": [
    "Remove the `locale_name` and `description` columns as they appear to be expansive (takes up lots ram) to store but contribute little to predictiion"
   ]
  },
  {
   "cell_type": "code",
   "execution_count": 15,
   "metadata": {},
   "outputs": [
    {
     "data": {
      "text/plain": [
       "Index(['date', 'type', 'locale', 'transferred'], dtype='object')"
      ]
     },
     "execution_count": 15,
     "metadata": {},
     "output_type": "execute_result"
    }
   ],
   "source": [
    "df_events = df_events.loc[:, [\"date\", \"type\", \"locale\", \"transferred\"]]\n",
    "df_events.columns"
   ]
  },
  {
   "cell_type": "markdown",
   "metadata": {},
   "source": [
    "- oil price data"
   ]
  },
  {
   "cell_type": "code",
   "execution_count": 16,
   "metadata": {},
   "outputs": [
    {
     "data": {
      "text/html": [
       "<div>\n",
       "<style scoped>\n",
       "    .dataframe tbody tr th:only-of-type {\n",
       "        vertical-align: middle;\n",
       "    }\n",
       "\n",
       "    .dataframe tbody tr th {\n",
       "        vertical-align: top;\n",
       "    }\n",
       "\n",
       "    .dataframe thead th {\n",
       "        text-align: right;\n",
       "    }\n",
       "</style>\n",
       "<table border=\"1\" class=\"dataframe\">\n",
       "  <thead>\n",
       "    <tr style=\"text-align: right;\">\n",
       "      <th></th>\n",
       "      <th>date</th>\n",
       "      <th>dcoilwtico</th>\n",
       "    </tr>\n",
       "  </thead>\n",
       "  <tbody>\n",
       "    <tr>\n",
       "      <th>count</th>\n",
       "      <td>1218</td>\n",
       "      <td>1175.000000</td>\n",
       "    </tr>\n",
       "    <tr>\n",
       "      <th>unique</th>\n",
       "      <td>1218</td>\n",
       "      <td>NaN</td>\n",
       "    </tr>\n",
       "    <tr>\n",
       "      <th>top</th>\n",
       "      <td>2016-09-08 00:00:00</td>\n",
       "      <td>NaN</td>\n",
       "    </tr>\n",
       "    <tr>\n",
       "      <th>freq</th>\n",
       "      <td>1</td>\n",
       "      <td>NaN</td>\n",
       "    </tr>\n",
       "    <tr>\n",
       "      <th>first</th>\n",
       "      <td>2013-01-01 00:00:00</td>\n",
       "      <td>NaN</td>\n",
       "    </tr>\n",
       "    <tr>\n",
       "      <th>last</th>\n",
       "      <td>2017-08-31 00:00:00</td>\n",
       "      <td>NaN</td>\n",
       "    </tr>\n",
       "    <tr>\n",
       "      <th>mean</th>\n",
       "      <td>NaN</td>\n",
       "      <td>67.714317</td>\n",
       "    </tr>\n",
       "    <tr>\n",
       "      <th>std</th>\n",
       "      <td>NaN</td>\n",
       "      <td>25.630465</td>\n",
       "    </tr>\n",
       "    <tr>\n",
       "      <th>min</th>\n",
       "      <td>NaN</td>\n",
       "      <td>26.190001</td>\n",
       "    </tr>\n",
       "    <tr>\n",
       "      <th>25%</th>\n",
       "      <td>NaN</td>\n",
       "      <td>46.404999</td>\n",
       "    </tr>\n",
       "    <tr>\n",
       "      <th>50%</th>\n",
       "      <td>NaN</td>\n",
       "      <td>53.189999</td>\n",
       "    </tr>\n",
       "    <tr>\n",
       "      <th>75%</th>\n",
       "      <td>NaN</td>\n",
       "      <td>95.660004</td>\n",
       "    </tr>\n",
       "    <tr>\n",
       "      <th>max</th>\n",
       "      <td>NaN</td>\n",
       "      <td>110.620003</td>\n",
       "    </tr>\n",
       "  </tbody>\n",
       "</table>\n",
       "</div>"
      ],
      "text/plain": [
       "                       date   dcoilwtico\n",
       "count                  1218  1175.000000\n",
       "unique                 1218          NaN\n",
       "top     2016-09-08 00:00:00          NaN\n",
       "freq                      1          NaN\n",
       "first   2013-01-01 00:00:00          NaN\n",
       "last    2017-08-31 00:00:00          NaN\n",
       "mean                    NaN    67.714317\n",
       "std                     NaN    25.630465\n",
       "min                     NaN    26.190001\n",
       "25%                     NaN    46.404999\n",
       "50%                     NaN    53.189999\n",
       "75%                     NaN    95.660004\n",
       "max                     NaN   110.620003"
      ]
     },
     "execution_count": 16,
     "metadata": {},
     "output_type": "execute_result"
    }
   ],
   "source": [
    "df_oil.describe(include=\"all\")"
   ]
  },
  {
   "cell_type": "markdown",
   "metadata": {},
   "source": [
    "another time series data of oil prices that we can merge by time series.\n",
    "`dcoilwtico` appears to container a representation of the oil price feature\n",
    "\n",
    "Check for NANs:"
   ]
  },
  {
   "cell_type": "code",
   "execution_count": 17,
   "metadata": {},
   "outputs": [
    {
     "data": {
      "text/plain": [
       "date          False\n",
       "dcoilwtico     True\n",
       "dtype: bool"
      ]
     },
     "execution_count": 17,
     "metadata": {},
     "output_type": "execute_result"
    }
   ],
   "source": [
    "df_oil.isna().any()"
   ]
  },
  {
   "cell_type": "markdown",
   "metadata": {},
   "source": [
    "Looks like there are gaps in the oil data"
   ]
  },
  {
   "cell_type": "markdown",
   "metadata": {},
   "source": [
    "- items metadata"
   ]
  },
  {
   "cell_type": "code",
   "execution_count": 18,
   "metadata": {},
   "outputs": [
    {
     "data": {
      "text/html": [
       "<div>\n",
       "<style scoped>\n",
       "    .dataframe tbody tr th:only-of-type {\n",
       "        vertical-align: middle;\n",
       "    }\n",
       "\n",
       "    .dataframe tbody tr th {\n",
       "        vertical-align: top;\n",
       "    }\n",
       "\n",
       "    .dataframe thead th {\n",
       "        text-align: right;\n",
       "    }\n",
       "</style>\n",
       "<table border=\"1\" class=\"dataframe\">\n",
       "  <thead>\n",
       "    <tr style=\"text-align: right;\">\n",
       "      <th></th>\n",
       "      <th>item_nbr</th>\n",
       "      <th>family</th>\n",
       "      <th>class</th>\n",
       "      <th>perishable</th>\n",
       "    </tr>\n",
       "  </thead>\n",
       "  <tbody>\n",
       "    <tr>\n",
       "      <th>count</th>\n",
       "      <td>4.100000e+03</td>\n",
       "      <td>4100</td>\n",
       "      <td>4100.0000</td>\n",
       "      <td>4100.000000</td>\n",
       "    </tr>\n",
       "    <tr>\n",
       "      <th>unique</th>\n",
       "      <td>NaN</td>\n",
       "      <td>33</td>\n",
       "      <td>NaN</td>\n",
       "      <td>NaN</td>\n",
       "    </tr>\n",
       "    <tr>\n",
       "      <th>top</th>\n",
       "      <td>NaN</td>\n",
       "      <td>GROCERY I</td>\n",
       "      <td>NaN</td>\n",
       "      <td>NaN</td>\n",
       "    </tr>\n",
       "    <tr>\n",
       "      <th>freq</th>\n",
       "      <td>NaN</td>\n",
       "      <td>1334</td>\n",
       "      <td>NaN</td>\n",
       "      <td>NaN</td>\n",
       "    </tr>\n",
       "    <tr>\n",
       "      <th>mean</th>\n",
       "      <td>1.251436e+06</td>\n",
       "      <td>NaN</td>\n",
       "      <td>2169.6500</td>\n",
       "      <td>0.240488</td>\n",
       "    </tr>\n",
       "    <tr>\n",
       "      <th>std</th>\n",
       "      <td>5.876872e+05</td>\n",
       "      <td>NaN</td>\n",
       "      <td>1484.9109</td>\n",
       "      <td>0.427432</td>\n",
       "    </tr>\n",
       "    <tr>\n",
       "      <th>min</th>\n",
       "      <td>9.699500e+04</td>\n",
       "      <td>NaN</td>\n",
       "      <td>1002.0000</td>\n",
       "      <td>0.000000</td>\n",
       "    </tr>\n",
       "    <tr>\n",
       "      <th>25%</th>\n",
       "      <td>8.181108e+05</td>\n",
       "      <td>NaN</td>\n",
       "      <td>1068.0000</td>\n",
       "      <td>0.000000</td>\n",
       "    </tr>\n",
       "    <tr>\n",
       "      <th>50%</th>\n",
       "      <td>1.306198e+06</td>\n",
       "      <td>NaN</td>\n",
       "      <td>2004.0000</td>\n",
       "      <td>0.000000</td>\n",
       "    </tr>\n",
       "    <tr>\n",
       "      <th>75%</th>\n",
       "      <td>1.904918e+06</td>\n",
       "      <td>NaN</td>\n",
       "      <td>2990.5000</td>\n",
       "      <td>0.000000</td>\n",
       "    </tr>\n",
       "    <tr>\n",
       "      <th>max</th>\n",
       "      <td>2.134244e+06</td>\n",
       "      <td>NaN</td>\n",
       "      <td>7780.0000</td>\n",
       "      <td>1.000000</td>\n",
       "    </tr>\n",
       "  </tbody>\n",
       "</table>\n",
       "</div>"
      ],
      "text/plain": [
       "            item_nbr     family      class   perishable\n",
       "count   4.100000e+03       4100  4100.0000  4100.000000\n",
       "unique           NaN         33        NaN          NaN\n",
       "top              NaN  GROCERY I        NaN          NaN\n",
       "freq             NaN       1334        NaN          NaN\n",
       "mean    1.251436e+06        NaN  2169.6500     0.240488\n",
       "std     5.876872e+05        NaN  1484.9109     0.427432\n",
       "min     9.699500e+04        NaN  1002.0000     0.000000\n",
       "25%     8.181108e+05        NaN  1068.0000     0.000000\n",
       "50%     1.306198e+06        NaN  2004.0000     0.000000\n",
       "75%     1.904918e+06        NaN  2990.5000     0.000000\n",
       "max     2.134244e+06        NaN  7780.0000     1.000000"
      ]
     },
     "execution_count": 18,
     "metadata": {},
     "output_type": "execute_result"
    }
   ],
   "source": [
    "df_items.describe(include=\"all\")"
   ]
  },
  {
   "cell_type": "markdown",
   "metadata": {},
   "source": [
    "Contains items metadata that we can merge with the main dataframe using the foreign key `item_nbr`\n",
    "\n",
    "Check for Nans:"
   ]
  },
  {
   "cell_type": "code",
   "execution_count": 19,
   "metadata": {},
   "outputs": [
    {
     "data": {
      "text/plain": [
       "item_nbr      False\n",
       "family        False\n",
       "class         False\n",
       "perishable    False\n",
       "dtype: bool"
      ]
     },
     "execution_count": 19,
     "metadata": {},
     "output_type": "execute_result"
    }
   ],
   "source": [
    "df_items.isna().any()"
   ]
  },
  {
   "cell_type": "markdown",
   "metadata": {},
   "source": [
    "---"
   ]
  },
  {
   "cell_type": "markdown",
   "metadata": {},
   "source": [
    "## Preprocess Data"
   ]
  },
  {
   "cell_type": "markdown",
   "metadata": {},
   "source": [
    "### Remove NANs in the data"
   ]
  },
  {
   "cell_type": "markdown",
   "metadata": {},
   "source": [
    "#### 1. The NANs in `df_train`'s `onpromtion` column\n",
    "\n",
    "\n",
    "We want to normalise `onpromotion` column to boolean\n",
    "1. Replace NAN with false (specified in competition)\n",
    "2. Cast datatype of onpromotion into boolean"
   ]
  },
  {
   "cell_type": "code",
   "execution_count": 20,
   "metadata": {},
   "outputs": [],
   "source": [
    "def convert_boolean(series):\n",
    "    series.map({\"False\": False, \"True\": True})\n",
    "    return series.astype(bool)\n",
    "\n",
    "df_train.onpromotion = convert_boolean(df_train.onpromotion)\n",
    "df_test.onpromotion = convert_boolean(df_test.onpromotion)"
   ]
  },
  {
   "cell_type": "markdown",
   "metadata": {},
   "source": [
    "#### 2.  The NAN's in `df_oil`'s `dcoilwtico` column\n",
    "Remove the NAN's the `dcoliwtico`column using pandas interpolate functionalty"
   ]
  },
  {
   "cell_type": "code",
   "execution_count": 21,
   "metadata": {},
   "outputs": [],
   "source": [
    "dcoilwtico = df_oil.dcoilwtico\n",
    "dcoilwtico_nona = dcoilwtico.interpolate(method=\"linear\",\n",
    "                                         limit=len(dcoilwtico),\n",
    "                                         limit_direction=\"both\")"
   ]
  },
  {
   "cell_type": "markdown",
   "metadata": {},
   "source": [
    "Obeserve the interpolation results with a plot"
   ]
  },
  {
   "cell_type": "code",
   "execution_count": 22,
   "metadata": {},
   "outputs": [
    {
     "data": {
      "image/png": "[encoded data removed]",
      "text/plain": [
       "<Figure size 1008x504 with 1 Axes>"
      ]
     },
     "metadata": {
      "needs_background": "light"
     },
     "output_type": "display_data"
    }
   ],
   "source": [
    "matplotlib.rcParams['figure.figsize'] = [14, 7]\n",
    "plt.plot(range(len(dcoilwtico)), dcoilwtico.values, \"r.\", label=\"Before Interpolation\")\n",
    "plt.plot(range(len(dcoilwtico)), dcoilwtico_nona.values, \"g-\", label=\"After interpolation\")\n",
    "plt.legend()\n",
    "plt.show()"
   ]
  },
  {
   "cell_type": "markdown",
   "metadata": {},
   "source": [
    "Look great, lets replace `dcoilwtico` in `df_oil` with the interpolated values"
   ]
  },
  {
   "cell_type": "code",
   "execution_count": 23,
   "metadata": {},
   "outputs": [],
   "source": [
    "df_oil.dcoilwtico = dcoilwtico_nona\n",
    "dcoilwtico = None"
   ]
  },
  {
   "cell_type": "markdown",
   "metadata": {},
   "source": [
    "### Merge metadata into core dataframe\n",
    "Currently, our data is scattered around in different dataframes (`df_oil`, `df_store`, `df_items`, `df_train`). To do machine learning, we need them all to be in one dataframe (`df_train`). Similarly, do the same for `df_test`"
   ]
  },
  {
   "cell_type": "markdown",
   "metadata": {},
   "source": [
    "##### Merge items dataframe into core dataframe\n",
    "Merge items dataframe into core dataframe by `item_nbr`"
   ]
  },
  {
   "cell_type": "code",
   "execution_count": 24,
   "metadata": {
    "scrolled": true
   },
   "outputs": [
    {
     "name": "stdout",
     "output_type": "stream",
     "text": [
      "CPU times: user 16.6 s, sys: 4 s, total: 20.6 s\n",
      "Wall time: 20.4 s\n",
      "CPU times: user 265 ms, sys: 19.8 ms, total: 284 ms\n",
      "Wall time: 283 ms\n"
     ]
    }
   ],
   "source": [
    "%time df_all_train = pd.merge(df_train, df_items, on=\"item_nbr\")\n",
    "%time df_all_test = pd.merge(df_test, df_items, on=\"item_nbr\")"
   ]
  },
  {
   "cell_type": "code",
   "execution_count": 25,
   "metadata": {},
   "outputs": [
    {
     "data": {
      "text/plain": [
       "2593"
      ]
     },
     "execution_count": 25,
     "metadata": {},
     "output_type": "execute_result"
    }
   ],
   "source": [
    "# Allow python's GC to reclaim memory\n",
    "df_train = None\n",
    "df_test = None\n",
    "df_items = None\n",
    "gc.collect()"
   ]
  },
  {
   "cell_type": "markdown",
   "metadata": {},
   "source": [
    "##### Merge store dataframe into core data frame \n",
    "Merge store dataframe into core dataframe by `store_nbr`"
   ]
  },
  {
   "cell_type": "code",
   "execution_count": 26,
   "metadata": {},
   "outputs": [
    {
     "name": "stdout",
     "output_type": "stream",
     "text": [
      "CPU times: user 14.3 s, sys: 4.42 s, total: 18.7 s\n",
      "Wall time: 18.7 s\n",
      "CPU times: user 342 ms, sys: 175 µs, total: 342 ms\n",
      "Wall time: 341 ms\n"
     ]
    }
   ],
   "source": [
    "%time df_all_train = pd.merge(df_all_train, df_stores, on=\"store_nbr\")\n",
    "%time df_all_test = pd.merge(df_all_test, df_stores, on=\"store_nbr\")"
   ]
  },
  {
   "cell_type": "code",
   "execution_count": 27,
   "metadata": {},
   "outputs": [
    {
     "data": {
      "text/plain": [
       "89"
      ]
     },
     "execution_count": 27,
     "metadata": {},
     "output_type": "execute_result"
    }
   ],
   "source": [
    "# Allow python's GC to reclaim memory\n",
    "df_stores = None\n",
    "gc.collect()"
   ]
  },
  {
   "cell_type": "markdown",
   "metadata": {},
   "source": [
    "##### Merge oil dataframe into core data frame\n",
    "Merge `df_oil` dataframe into core by nearest `date`\n",
    "\n",
    "1. First we sort the dataframes by date"
   ]
  },
  {
   "cell_type": "code",
   "execution_count": 28,
   "metadata": {},
   "outputs": [],
   "source": [
    "df_all_train.sort_values(by=\"date\", inplace=True)\n",
    "df_all_test.sort_values(by=\"date\", inplace=True)\n",
    "df_oil.sort_values(by=\"date\", inplace=True)"
   ]
  },
  {
   "cell_type": "markdown",
   "metadata": {},
   "source": [
    "2. Perform Merge `df_oil` dataframe into core by nearest backward `date`"
   ]
  },
  {
   "cell_type": "code",
   "execution_count": 29,
   "metadata": {},
   "outputs": [
    {
     "name": "stdout",
     "output_type": "stream",
     "text": [
      "CPU times: user 7.59 s, sys: 3.32 s, total: 10.9 s\n",
      "Wall time: 10.9 s\n",
      "CPU times: user 200 ms, sys: 22 µs, total: 200 ms\n",
      "Wall time: 206 ms\n"
     ]
    }
   ],
   "source": [
    "%time df_all_train = pd.merge_asof(df_all_train, df_oil, on=\"date\")\n",
    "%time df_all_test = pd.merge_asof(df_all_test, df_oil, on=\"date\")"
   ]
  },
  {
   "cell_type": "code",
   "execution_count": 30,
   "metadata": {},
   "outputs": [
    {
     "data": {
      "text/plain": [
       "134"
      ]
     },
     "execution_count": 30,
     "metadata": {},
     "output_type": "execute_result"
    }
   ],
   "source": [
    "# Allow python's GC to reclaim memory\n",
    "df_oil = None\n",
    "gc.collect()"
   ]
  },
  {
   "cell_type": "markdown",
   "metadata": {},
   "source": [
    "##### Merge events & holidays dataframe into core dataframe\n",
    "Merge `df_events` into the core dataframes on `date` column\n",
    "\n",
    "1. Sort the dataframes by date"
   ]
  },
  {
   "cell_type": "code",
   "execution_count": 31,
   "metadata": {},
   "outputs": [],
   "source": [
    "df_all_train.sort_values(by=\"date\", inplace=True)\n",
    "df_all_test.sort_values(by=\"date\", inplace=True)\n",
    "df_events.sort_values(by=\"date\", inplace=True)"
   ]
  },
  {
   "cell_type": "markdown",
   "metadata": {},
   "source": [
    "2. Perform Merge `df_events` into the core dataframes on `date` column"
   ]
  },
  {
   "cell_type": "code",
   "execution_count": 32,
   "metadata": {},
   "outputs": [
    {
     "name": "stdout",
     "output_type": "stream",
     "text": [
      "CPU times: user 8.84 s, sys: 4.34 s, total: 13.2 s\n",
      "Wall time: 13.4 s\n",
      "CPU times: user 271 ms, sys: 107 ms, total: 378 ms\n",
      "Wall time: 1.03 s\n"
     ]
    }
   ],
   "source": [
    "%time df_all_train = pd.merge_asof(df_all_train, df_events, on=\"date\")\n",
    "%time df_all_test = pd.merge_asof(df_all_test, df_events, on=\"date\")"
   ]
  },
  {
   "cell_type": "code",
   "execution_count": 33,
   "metadata": {},
   "outputs": [
    {
     "data": {
      "text/plain": [
       "42"
      ]
     },
     "execution_count": 33,
     "metadata": {},
     "output_type": "execute_result"
    }
   ],
   "source": [
    "# Allow python's GC to reclaim memory\n",
    "df_events = None\n",
    "gc.collect()"
   ]
  },
  {
   "cell_type": "markdown",
   "metadata": {},
   "source": [
    "### Commit dataset to disk"
   ]
  },
  {
   "cell_type": "markdown",
   "metadata": {},
   "source": [
    "##### Write preprocessed dataset to disk in feather format"
   ]
  },
  {
   "cell_type": "code",
   "execution_count": 34,
   "metadata": {},
   "outputs": [],
   "source": [
    "# setup feather cache directory\n",
    "CACHE_PATH = \"tmp/groceries/\"\n",
    "if not os.path.exists(CACHE_PATH): os.makedirs(CACHE_PATH)\n",
    "\n",
    "# save data frame as feather\n",
    "df_all_train.to_feather(f\"{CACHE_PATH}train.feather\")\n",
    "df_all_test.to_feather(f\"{CACHE_PATH}test.feather\")"
   ]
  }
 ],
 "metadata": {
  "kernelspec": {
   "display_name": "Python 3",
   "language": "python",
   "name": "python3"
  },
  "language_info": {
   "codemirror_mode": {
    "name": "ipython",
    "version": 3
   },
   "file_extension": ".py",
   "mimetype": "text/x-python",
   "name": "python",
   "nbconvert_exporter": "python",
   "pygments_lexer": "ipython3",
   "version": "3.7.3"
  }
 },
 "nbformat": 4,
 "nbformat_minor": 2
}
